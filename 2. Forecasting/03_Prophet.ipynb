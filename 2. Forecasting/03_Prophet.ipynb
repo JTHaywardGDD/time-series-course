{
 "cells": [
  {
   "cell_type": "markdown",
   "metadata": {},
   "source": [
    "# Introduction to Prophet\n",
    "<img src=images/logo.png align='right' width=200>\n",
    "\n",
    "## Goal\n",
    "\n",
    "The goal of this notebook is to introduce Prophet from Facebook. It is a procedure for forecasting time series data that works by explicitly modeling trends, seasonalities and holiday effects, making it especially suitable for business applications."
   ]
  },
  {
   "cell_type": "markdown",
   "metadata": {},
   "source": [
    "## Program\n",
    "\n",
    "- [About Prophet](#ap)\n",
    "- [Forecasting with Prophet](#fwp)\n",
    "- [Plotting with Prophet](#pwp)\n",
    "    - [Assignment](#as1)\n",
    "- [Model evaluation with Prophet](#mewp)\n",
    "- [Tracking trend change points](#ttcp)\n",
    "- [Multiplicative Seasonality and Model Selection](#msms)"
   ]
  },
  {
   "cell_type": "code",
   "execution_count": null,
   "metadata": {},
   "outputs": [],
   "source": [
    "import matplotlib.pyplot as plt\n",
    "import numpy as np\n",
    "import pandas as pd\n",
    "\n",
    "from prophet import Prophet\n",
    "\n",
    "%matplotlib inline\n",
    "plt.rcParams[\"font.size\"] = 14\n",
    "plt.rcParams['figure.figsize'] = (20.0, 10.0)"
   ]
  },
  {
   "cell_type": "markdown",
   "metadata": {},
   "source": [
    "<a id='ap'></a>\n",
    "## About Prophet\n",
    "\n",
    "<!-- [Installation guide for Prophet](https://facebook.github.io/prophet/docs/installation.html#python)\n",
    "\n",
    "You may also want to install `plotly` (4.0 or above) and `ipywidgets` for interactive plots. -->\n",
    "\n",
    "<a href=\"https://facebookincubator.github.io/prophet/\">\n",
    "<img src='images/prophet.png' align='center' style=\"width:300px\"></a> \n",
    "\n",
    "Prophet is a libary for forecasting time series data. It was released by Facebook’s Core Data Science team (Feb 23, 2017 in [github](https://github.com/facebookincubator/prophet)); models are \"fit\" with [Stan](http://mc-stan.org/) and you can read the paper [here](https://facebookincubator.github.io/prophet/static/prophet_paper_20170113.pdf).\n",
    "\n",
    "### How Prophet works\n",
    "\n",
    "Prophet uses an additive regression model with the following main components:\n",
    "\n",
    "* a piecewise linear / logistic growth curve trend\n",
    "* automatically detects changes in trends by selecting change points\n",
    "* a *yearly* seasonal component (using Fourier series)\n",
    "* a *weekly* seasonal component (using dummy variables)\n",
    "* user provided list of important holidays *(optional)*\n"
   ]
  },
  {
   "cell_type": "markdown",
   "metadata": {},
   "source": [
    "**Pros:** \n",
    "- Highly automated and simple to use. \n",
    "- Does not require extensive preprocessing and domain knowledge. \n",
    "- Robust to missing data, outliers and dramatic changes. \n",
    "- Measures explainable and quantifiable effects. \n",
    "- Can be easily used to detect outliers and trend change points. \n",
    "- Typically outperforms many custom models.\n",
    "\n",
    "**Cons:** \n",
    "- Is a bit of a black box. \n",
    "- Still in development and some features are still missing. \n",
    "- Less customization of the model."
   ]
  },
  {
   "cell_type": "markdown",
   "metadata": {},
   "source": [
    "<a id='fwp'></a>\n",
    "## Forecasting with Prophet\n",
    "\n",
    "To demonstrate prophet we shall use the dataset containing total monthly passenger traffic at Schiphol airport between 1999 and 2019 from [Statistics Netherlands (CBS)](https://opendata.cbs.nl/statline/#/CBS/en/dataset/37478ENG/table?dl=6F18). Each datapoint indicates the total number of passengers traveled via Schiphol in millions in each particular month.\n",
    "\n",
    "![](data:image/jpeg;base64,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)"
   ]
  },
  {
   "cell_type": "code",
   "execution_count": null,
   "metadata": {},
   "outputs": [],
   "source": [
    "schiphol = pd.read_csv('data/schiphol_passengers.csv', index_col='date', parse_dates=True)\n",
    "schiphol.index.freq = 'MS'\n",
    "schiphol.head()"
   ]
  },
  {
   "cell_type": "markdown",
   "metadata": {},
   "source": [
    "Prophet expects a `ds` column with timestamps and he variable of interest should be called `y`."
   ]
  },
  {
   "cell_type": "code",
   "execution_count": null,
   "metadata": {},
   "outputs": [],
   "source": [
    "schiphol = (schiphol\n",
    "            .rename(columns={'total_passengers': 'y'})\n",
    "            .assign(y = lambda df: df['y']/1000000,  #the variable of interest should be called 'y' for Prophet\n",
    "                   ds = lambda df: df.index)  #Prophet needs a 'ds' column with timestamps\n",
    "           )\n",
    "schiphol.head()"
   ]
  },
  {
   "cell_type": "code",
   "execution_count": null,
   "metadata": {},
   "outputs": [],
   "source": [
    "schiphol_train = schiphol.loc[:'2017 Jan']\n",
    "schiphol_test = schiphol.loc['2017 Jan':]"
   ]
  },
  {
   "cell_type": "code",
   "execution_count": null,
   "metadata": {},
   "outputs": [],
   "source": [
    "fig, ax = plt.subplots(figsize=(18,5))\n",
    "schiphol_train['y'].plot(ax=ax);\n",
    "schiphol_test['y'].plot(ax=ax, c='g');"
   ]
  },
  {
   "cell_type": "markdown",
   "metadata": {},
   "source": [
    "### Fitting the model\n",
    "\n",
    "To fit the model we must first instantiate a new `Prophet` object.  \n",
    "\n",
    "If Prophet does not detect a certain type of seasonality - it turns it off. So if you know this type should actually be there - you need to specify it."
   ]
  },
  {
   "cell_type": "code",
   "execution_count": null,
   "metadata": {},
   "outputs": [],
   "source": [
    "model = Prophet()\n",
    "\n",
    "##if we want to explicitly set seasonality:\n",
    "#model = Prophet(yearly_seasonality=True, daily_seasonality=False)"
   ]
  },
  {
   "cell_type": "markdown",
   "metadata": {},
   "source": [
    "Once the model has been initiaed you can call its `fit` method and pass in the historical dataframe."
   ]
  },
  {
   "cell_type": "code",
   "execution_count": null,
   "metadata": {
    "scrolled": true
   },
   "outputs": [],
   "source": [
    "model.fit(schiphol_train);"
   ]
  },
  {
   "cell_type": "markdown",
   "metadata": {},
   "source": [
    "Predictions are then made on a dataframe with a column `ds` containing the dates for which a prediction is to be made. You can get a suitable dataframe that extends into the future a specified number of days using the helper method `.make_future_dataframe()`. By default it will also include the dates from the history, so we will see the model fit as well.\n",
    "\n",
    "Prophet expects daily data by default - remember to specify if you have a different format"
   ]
  },
  {
   "cell_type": "code",
   "execution_count": null,
   "metadata": {},
   "outputs": [],
   "source": [
    "future = model.make_future_dataframe(periods=35, freq='MS') \n",
    "future.tail()"
   ]
  },
  {
   "cell_type": "markdown",
   "metadata": {},
   "source": [
    "The `predict` method will assign each row in `future` a predicted value which it names `yhat`.  If you pass in historical dates, it will provide an in-sample fit. \n",
    "\n",
    "The `forecast` object here is a new dataframe that includes a column `yhat` with the forecast, as well as columns for components and uncertainty intervals. \n",
    "\n",
    "By default the width of the uncertainty intervals (confidence interval) is set to 80%. It is a model paramter that can be set, e.g. `Model(interval_width=0.95)`.\n",
    "\n",
    "<!-- Prophet estimates the uncertainty intervals using Monte Carlo simulation. The `uncertainty_samples` parameter controls the simulation. It is the number of samples used to estimate the uncertainty interval (by default 1000). It is a model paramter that can be set, e.g. `Model(uncertainty_samples=100)`. -->"
   ]
  },
  {
   "cell_type": "code",
   "execution_count": null,
   "metadata": {},
   "outputs": [],
   "source": [
    "forecast = model.predict(future)\n",
    "print(forecast.shape)\n",
    "forecast.head()"
   ]
  },
  {
   "cell_type": "code",
   "execution_count": null,
   "metadata": {},
   "outputs": [],
   "source": [
    "forecast[['ds', 'yhat', 'yhat_lower', 'yhat_upper']].tail()"
   ]
  },
  {
   "cell_type": "markdown",
   "metadata": {},
   "source": [
    "<a id='pwp'></a>\n",
    "## Plotting with Prophet\n",
    "\n",
    "### Plotting the forecast\n",
    "\n",
    "Prophet has its own plotting functionality, which is compatible with Matplotlib. You can plot the forecast by calling the `.plot()` method and passing in your forecast dataframe.\n",
    "\n",
    "Black dots indicate the real data points. Dark blue line shows the model fit with light blue area indicating lower to upper prediction bounds."
   ]
  },
  {
   "cell_type": "code",
   "execution_count": null,
   "metadata": {},
   "outputs": [],
   "source": [
    "model.plot(forecast, figsize=(18,7));\n",
    "plt.xticks(rotation=25);"
   ]
  },
  {
   "cell_type": "markdown",
   "metadata": {},
   "source": [
    "An interactive figure of the forecast and components can be created with plotly. You will need to install plotly 4.0 or above separately, as it will not by default be installed with prophet. You will also need the `ipywidgets` package."
   ]
  },
  {
   "cell_type": "code",
   "execution_count": null,
   "metadata": {},
   "outputs": [],
   "source": [
    "from prophet.plot import plot_plotly, plot_components_plotly\n",
    "\n",
    "plot_plotly(model, forecast)"
   ]
  },
  {
   "cell_type": "markdown",
   "metadata": {},
   "source": [
    "Let's have a closer look at the prediction area and compare it to the actual  test set values:"
   ]
  },
  {
   "cell_type": "code",
   "execution_count": null,
   "metadata": {},
   "outputs": [],
   "source": [
    "fig, ax = plt.subplots()\n",
    "model.plot(forecast, ax=ax);\n",
    "schiphol_test['y'].plot(ax=ax, c='green')\n",
    "plt.xticks(rotation=25)\n",
    "plt.xlim(pd.Timestamp('2017-01-01'), pd.Timestamp('2019-12-01')); # to zoom into a region"
   ]
  },
  {
   "cell_type": "markdown",
   "metadata": {},
   "source": [
    "Predictions look quite good, especially for fall and winter months, with a bit of underestimation for the summer peaks.\n"
   ]
  },
  {
   "cell_type": "markdown",
   "metadata": {},
   "source": [
    "### Plotting the components\n",
    "\n",
    "If we want a more customized plot, we can simply get the necessary columns from the *forecast* dataframe and plot them as we usually would do with Pandas:"
   ]
  },
  {
   "cell_type": "code",
   "execution_count": null,
   "metadata": {},
   "outputs": [],
   "source": [
    "pltr = (forecast\n",
    "         .set_index(schiphol.index)\n",
    "        )\n",
    "\n",
    "fig, ax = plt.subplots(figsize=(18,6))\n",
    "schiphol['y'].plot(ax=ax);\n",
    "pltr[['trend','yearly']].plot(ax=ax);\n",
    "ax.legend([\"y_real\", \"trend\", \"yearly seasonality\"], prop={'size': 16});"
   ]
  },
  {
   "cell_type": "markdown",
   "metadata": {},
   "source": [
    "<a id='as1'></a>\n",
    "## Assignment: Detecting Outliers\n",
    "\n",
    "Identify and highlight on the plot the *training set* points that lie outside of the confidence boundaries of our Prophet model\n",
    "\n",
    "*HINT:* Create a new variable that has the real *y values* when it is an outlier and a missing value (np.nan) otherwise. Then plot it alongside Prophet's plot. Make sure the index of the new dataframe is the timestamps."
   ]
  },
  {
   "cell_type": "code",
   "execution_count": null,
   "metadata": {},
   "outputs": [],
   "source": [
    "# %load answers/prophet_outliers.py\n",
    "\n"
   ]
  },
  {
   "cell_type": "markdown",
   "metadata": {},
   "source": [
    "\n",
    "\n",
    "We can also plot components of Prophet's forecast using `model.plot_components(forecast)`. Note how this also includes confidence boundaries for the future trend (in our case, 2017 onwards):"
   ]
  },
  {
   "cell_type": "code",
   "execution_count": null,
   "metadata": {},
   "outputs": [],
   "source": [
    "model.plot_components(forecast)\n",
    "plt.xticks(rotation=25);"
   ]
  },
  {
   "cell_type": "code",
   "execution_count": null,
   "metadata": {},
   "outputs": [],
   "source": [
    "plot_components_plotly(model, forecast)"
   ]
  },
  {
   "cell_type": "markdown",
   "metadata": {},
   "source": [
    "<a id='mewp'></a>\n",
    "## Model Evaluation with Prophet\n",
    "\n",
    "Since Prophet provides the $\\hat{y}$ column, we can compare it with the actual test data and calculate the usual metrics such as MAE or RMSE, as we would normally do with our custom models"
   ]
  },
  {
   "cell_type": "code",
   "execution_count": null,
   "metadata": {},
   "outputs": [],
   "source": [
    "from sklearn.metrics import mean_absolute_error, mean_squared_error, mean_absolute_percentage_error\n",
    "\n",
    "y_pred = forecast.iloc[-36:]['yhat']\n",
    "y_test = schiphol_test['y']\n",
    "y_test_mean = round(y_test.mean(),2)\n",
    "\n",
    "MAE = round(mean_absolute_error(y_test, y_pred),2)\n",
    "MSE = round(mean_squared_error(y_test, y_pred),2)\n",
    "RMSE = round(np.sqrt(MSE),3)\n",
    "MAPE = round(mean_absolute_percentage_error(y_test, y_pred)*100,2)\n",
    "\n",
    "print(f'MAE: {MAE}, MAPE: {MAPE}%')\n",
    "\n",
    "print(f'RMSE: {RMSE}. It is {round(100*RMSE/y_test_mean,1)}% of the test set average value {y_test_mean}')"
   ]
  },
  {
   "cell_type": "markdown",
   "metadata": {},
   "source": [
    "Luckily for us, Prophet comes with its own model diagnostics functionality. It can actually do much more than just MSE on the test set. Most notably, it allows model evaluation with cross-validation - evaluate the model on several sections of our time series. This can give an even better idea of the model's predictive power.\n",
    "\n",
    "<img src='images/prophet_cv.png' style=\"width:500px\"></a> \n",
    "\n",
    "Various cutoff points are selected in the history, and for each of them the model is fitted using data only up to that cutoff point. The forecasted values are then compared to the actual values. "
   ]
  },
  {
   "cell_type": "code",
   "execution_count": null,
   "metadata": {},
   "outputs": [],
   "source": [
    "from prophet.diagnostics import cross_validation"
   ]
  },
  {
   "cell_type": "markdown",
   "metadata": {},
   "source": [
    "First we need to set some parameters for `cross_validation`:\n",
    "\n",
    "As we are working with monthly data it is better to specify the cutoff periods we will use. "
   ]
  },
  {
   "cell_type": "code",
   "execution_count": null,
   "metadata": {},
   "outputs": [],
   "source": [
    "schiphol_train['ds'].min(), schiphol_train['ds'].max()"
   ]
  },
  {
   "cell_type": "code",
   "execution_count": null,
   "metadata": {},
   "outputs": [],
   "source": [
    "# Cutoffs - we will train on data up until the cutoff points\n",
    "# i.e. 5 year inital period, then every 2 years\n",
    "cutoffs = pd.date_range(start='2004-01-01', end='2016-01-01', freq='2Y')\n",
    "cutoffs"
   ]
  },
  {
   "cell_type": "markdown",
   "metadata": {},
   "source": [
    "However, it would also be possible to specify an initial training period and the subsequent spacing between cutoff dates."
   ]
  },
  {
   "cell_type": "code",
   "execution_count": null,
   "metadata": {},
   "outputs": [],
   "source": [
    "# #Initial - the size of the initial training period (3 * horizon by default)\n",
    "# initial = str(5*365)+\" days\"\n",
    "# initial"
   ]
  },
  {
   "cell_type": "code",
   "execution_count": null,
   "metadata": {},
   "outputs": [],
   "source": [
    "# #Period - the spacing between cutoff dates - every X days  (0.5 * horizon by default)\n",
    "# period = str(2*365)+\" days\"\n",
    "# period"
   ]
  },
  {
   "cell_type": "markdown",
   "metadata": {},
   "source": [
    "The horizon specifies how far into the future we want to predict."
   ]
  },
  {
   "cell_type": "code",
   "execution_count": null,
   "metadata": {},
   "outputs": [],
   "source": [
    "#Horizon - how far out to forecast for each period\n",
    "horizon = str(365)+\" days\"\n",
    "horizon"
   ]
  },
  {
   "cell_type": "code",
   "execution_count": null,
   "metadata": {},
   "outputs": [],
   "source": [
    "#performing cross validation\n",
    "\n",
    "# Using cutoffs\n",
    "df_cv = cross_validation(model, cutoffs=cutoffs, horizon=horizon)\n",
    "\n",
    "# Using inital & period\n",
    "# df_cv = cross_validation(model, initial=initial, period=period, horizon=horizon)"
   ]
  },
  {
   "cell_type": "markdown",
   "metadata": {},
   "source": [
    "Let's have a look at the results of cross validation:"
   ]
  },
  {
   "cell_type": "code",
   "execution_count": null,
   "metadata": {},
   "outputs": [],
   "source": [
    "df_cv"
   ]
  },
  {
   "cell_type": "code",
   "execution_count": null,
   "metadata": {
    "scrolled": false
   },
   "outputs": [],
   "source": [
    "df_cv.resample('Y', on='ds').count()"
   ]
  },
  {
   "cell_type": "markdown",
   "metadata": {},
   "source": [
    "Metrics for the cross-validation predictions are computed for different horizon windows:"
   ]
  },
  {
   "cell_type": "code",
   "execution_count": null,
   "metadata": {},
   "outputs": [],
   "source": [
    "from prophet.diagnostics import performance_metrics\n",
    "performance_metrics(df_cv, rolling_window = 0.1)"
   ]
  },
  {
   "cell_type": "markdown",
   "metadata": {},
   "source": [
    "The size of the windows (number of simulated forecast points) is determined by the `rolling_window` argument.\n",
    "\n",
    "- The default of `rolling_window=0.1` will incorporate 10% more predictions in each window. \n",
    "- `rolling_window=1` will compute the metric across all simulated forecast points. "
   ]
  },
  {
   "cell_type": "markdown",
   "metadata": {},
   "source": [
    "To comprehend the cross validation results it can be helpful to make a plot."
   ]
  },
  {
   "cell_type": "code",
   "execution_count": null,
   "metadata": {},
   "outputs": [],
   "source": [
    "from prophet.plot import plot_cross_validation_metric\n",
    "plot_cross_validation_metric(df_cv, metric='rmse');"
   ]
  },
  {
   "cell_type": "code",
   "execution_count": null,
   "metadata": {},
   "outputs": [],
   "source": [
    "#mape - mean absolute percentage error\n",
    "plot_cross_validation_metric(df_cv, metric='mape');"
   ]
  },
  {
   "cell_type": "markdown",
   "metadata": {},
   "source": [
    "<a id='ttcp'></a>\n",
    "## Tracking Trend Change Points\n",
    "\n",
    "Often it is valuable to identify points in time at which the growth rate over time changes and breaks in the trend happen. Prophet has some useful tools to assist us with this.\n",
    "\n",
    "Let's first have a look at our dataset and the trends in it again:"
   ]
  },
  {
   "cell_type": "code",
   "execution_count": null,
   "metadata": {},
   "outputs": [],
   "source": [
    "schiphol['y'].plot(figsize=(18,6));"
   ]
  },
  {
   "cell_type": "markdown",
   "metadata": {},
   "source": [
    "How many change points do you think there are in the data? Which are easier to identify?\n",
    "\n",
    "Now let's consult Prophet:"
   ]
  },
  {
   "cell_type": "code",
   "execution_count": null,
   "metadata": {},
   "outputs": [],
   "source": [
    "from prophet.plot import add_changepoints_to_plot\n",
    "\n",
    "fig = model.plot(forecast)\n",
    "c_points = add_changepoints_to_plot(fig.gca(),model, forecast)"
   ]
  },
  {
   "cell_type": "markdown",
   "metadata": {},
   "source": [
    "Change point detection with Prophet is not only simple, but would typically outperform many good custom models. It can serve as a handy analytical tool to identify and better understand key periods of the time series."
   ]
  },
  {
   "cell_type": "markdown",
   "metadata": {},
   "source": [
    "<a id='msms'></a>\n",
    "## Multiplicative Seasonality and Model Selection\n",
    "\n",
    "While it may feel like Prophet does all the work for you, there are some important parameters that you can change to create a better model. For instance, you can manually set the types of seasonality that you expect in the data (even though Prophet can also do this automatically). You can also choose to not have constant seasonality over time - by default Prophet will assume fixed seasonality.\n",
    "\n",
    "Let's inspect our Prophet model once again and pay a closer attention to the seasonal cycles:"
   ]
  },
  {
   "cell_type": "code",
   "execution_count": null,
   "metadata": {},
   "outputs": [],
   "source": [
    "model.plot(forecast, figsize=(18,7));\n",
    "plt.xticks(rotation=25);\n",
    "plt.xlim(pd.Timestamp('1999-01-01'), pd.Timestamp('2017-01-01'));"
   ]
  },
  {
   "cell_type": "markdown",
   "metadata": {},
   "source": [
    "We can notice that our seasonal cycles are a bit too large for the beginning and a bit too small for the latest data points. This could be a likely sign of *Multiplicative Seasonality*. By setting `seasonality_mode='multiplicative'` we can allow Prophet to fit a model with growing (or shrinking) seasonal cycles over time."
   ]
  },
  {
   "cell_type": "code",
   "execution_count": null,
   "metadata": {},
   "outputs": [],
   "source": [
    "model2 = Prophet(seasonality_mode='multiplicative')\n",
    "model2.fit(schiphol_train);\n",
    "\n",
    "\n",
    "future2 = model2.make_future_dataframe(periods=35, freq='MS') \n",
    "forecast2 = model2.predict(future2)\n",
    "\n",
    "fig, ax = plt.subplots()\n",
    "model2.plot(forecast2, ax=ax);\n",
    "plt.xticks(rotation=25);"
   ]
  },
  {
   "cell_type": "markdown",
   "metadata": {},
   "source": [
    "This seems to be a much better fit! The seasonal cycles are just large enough for all moments in time. Also notice how the confidence bounds are narrower - the model is more confident about its fit and predictions now.\n",
    "\n",
    "Ironically, a better fit does not always mean better predictions. This new model is quite confident that summer passenger traffic will be expanding more and more after 2017. This is not unreasonable given the past data. However the reality (airport capacity and environmental challenges) make the reality a bit different: "
   ]
  },
  {
   "cell_type": "code",
   "execution_count": null,
   "metadata": {},
   "outputs": [],
   "source": [
    "fig, ax = plt.subplots()\n",
    "model2.plot(forecast2, ax=ax);\n",
    "schiphol_test['y'].plot(ax=ax, c='r');\n",
    "plt.xticks(rotation=25);"
   ]
  },
  {
   "cell_type": "markdown",
   "metadata": {},
   "source": [
    "We actually make more errors with this new model, when making predictions into 2017-2019, even though it fits the historic data better:"
   ]
  },
  {
   "cell_type": "code",
   "execution_count": null,
   "metadata": {},
   "outputs": [],
   "source": [
    "y_pred2 = forecast2.iloc[-36:]['yhat']\n",
    "\n",
    "\n",
    "MSE2 = round(mean_squared_error(y_test, y_pred2),2)\n",
    "RMSE2 = round(np.sqrt(MSE2),3)\n",
    "\n",
    "print(f'RMSE: {RMSE2}. It is {round(100*RMSE2/y_test_mean,1)}% of the test set average value {y_test_mean}')\n",
    "print(f'while previously we had RMSE={RMSE} ({round(100*RMSE/y_test_mean,1)}%)')"
   ]
  },
  {
   "cell_type": "markdown",
   "metadata": {},
   "source": [
    "Note how this is not clear from cross-validated scores - they are primarily based on the historic data where *Model 2* usually does better. These scores therefore may not properly alarm us that the assumption of further expanding seasonality of *Model 2* may hinder our predictions post-2017:"
   ]
  },
  {
   "cell_type": "code",
   "execution_count": null,
   "metadata": {
    "scrolled": true
   },
   "outputs": [],
   "source": [
    "#performing cross validation with the new model\n",
    "df_cv2 = cross_validation(model2, cutoffs=cutoffs, horizon=horizon)\n",
    "# df_cv2 = cross_validation(model2, initial=initial, period=period, horizon=horizon)"
   ]
  },
  {
   "cell_type": "code",
   "execution_count": null,
   "metadata": {},
   "outputs": [],
   "source": [
    "fig, ax = plt.subplots()\n",
    "plot_cross_validation_metric(df_cv, metric='rmse', ax=ax)\n",
    "plot_cross_validation_metric(df_cv2, metric='rmse', ax=ax);\n",
    "plt.gca().get_lines()[3].set_color(\"green\")\n",
    "ax.legend([\"\", \"model 1\", \"\", \"model 2\"], prop={'size': 18});"
   ]
  }
 ],
 "metadata": {
  "kernelspec": {
   "display_name": "Python 3 (ipykernel)",
   "language": "python",
   "name": "python3"
  },
  "language_info": {
   "codemirror_mode": {
    "name": "ipython",
    "version": 3
   },
   "file_extension": ".py",
   "mimetype": "text/x-python",
   "name": "python",
   "nbconvert_exporter": "python",
   "pygments_lexer": "ipython3",
   "version": "3.9.15"
  }
 },
 "nbformat": 4,
 "nbformat_minor": 4
}
