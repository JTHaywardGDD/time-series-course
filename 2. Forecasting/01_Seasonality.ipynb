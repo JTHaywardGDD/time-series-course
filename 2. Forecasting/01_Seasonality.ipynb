{
 "cells": [
  {
   "cell_type": "markdown",
   "metadata": {},
   "source": [
    "# Seasonality \n",
    "<img src=images/logo.png align='right' width=200>\n",
    "\n",
    "## Goal\n",
    "\n",
    "In this notebook we shall demonstrate how a contextual understanding (e.g. of seasons) can help our analysis.\n",
    "\n",
    "## Program\n",
    "\n",
    "- [Error-Trend-Seasonality Decomposition](#etsd)\n",
    "- [Dealing with Seasonality](#dws)\n",
    "- [Feature Engineering](#fe)\n",
    "    - [Assignment](#as1)\n",
    "- [Gradual Seasonal Filtering](#gsf)\n",
    "- [Non-Constant Seasonality](#ncs)\n",
    "    - [Assignment](#as2) \n",
    "- [Summary](#sum)\n"
   ]
  },
  {
   "cell_type": "code",
   "execution_count": null,
   "metadata": {},
   "outputs": [],
   "source": [
    "import numpy as np\n",
    "import pandas as pd \n",
    "import matplotlib.pyplot as plt\n",
    "from matplotlib import dates\n",
    "\n",
    "from sklearn.linear_model import LinearRegression\n",
    "\n",
    "%matplotlib inline "
   ]
  },
  {
   "cell_type": "markdown",
   "metadata": {},
   "source": [
    "## The data\n",
    "\n",
    "For this notebook we will use a dataset containing total monthly passenger traffic at Schiphol airport between 1999 and 2019 from [Statistics Netherlands (CBS)](https://opendata.cbs.nl/statline/#/CBS/en/dataset/37478ENG/table?dl=6F18). Each datapoint indicates the total number of passengers traveled via Schiphol in millions in each particular month.\n",
    "\n",
    "![](data:image/jpeg;base64,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)"
   ]
  },
  {
   "cell_type": "code",
   "execution_count": null,
   "metadata": {},
   "outputs": [],
   "source": [
    "schiphol = pd.read_csv('data/schiphol_passengers.csv', index_col='date', parse_dates=True)\n",
    "# schiphol.index.freq='MS'\n",
    "schiphol['total_passengers'] = schiphol['total_passengers'] / 1000000\n",
    "schiphol.head()"
   ]
  },
  {
   "cell_type": "code",
   "execution_count": null,
   "metadata": {},
   "outputs": [],
   "source": [
    "schiphol.info()"
   ]
  },
  {
   "cell_type": "markdown",
   "metadata": {},
   "source": [
    "Let's verify that we have data for every month of the years in the dataset."
   ]
  },
  {
   "cell_type": "code",
   "execution_count": null,
   "metadata": {},
   "outputs": [],
   "source": [
    "(\n",
    "    schiphol\n",
    "    .resample('Y')\n",
    "    .count()\n",
    "    .head()\n",
    ")"
   ]
  },
  {
   "cell_type": "markdown",
   "metadata": {},
   "source": [
    "By plotting the data over time we can clearly see some patterns:"
   ]
  },
  {
   "cell_type": "code",
   "execution_count": null,
   "metadata": {},
   "outputs": [],
   "source": [
    "schiphol.plot(figsize=(16,4));\n",
    "schiphol['2004 Sep':'2006 Feb'].plot(figsize=(16,4));"
   ]
  },
  {
   "cell_type": "markdown",
   "metadata": {},
   "source": [
    "These regularities can be described with some Time Series vocabulary:\n",
    "\n",
    "- **Trends** (upward / horizontal / downward)\n",
    "- **Seasonality** (predictably repeating cycles - weekly/monthly/yearly etc)\n",
    "- **Non-cyclical components** (patterns with no set repetition - for example trend breaks or random shocks) \n",
    "- **Residuals** (the remaining part of the series that cannot be further explicitly modeled)\n",
    "\n",
    "We will now investigate whether there is a way to separate the general trend from the other fluctuations?"
   ]
  },
  {
   "cell_type": "markdown",
   "metadata": {},
   "source": [
    "<a id='etsd'></a>\n",
    "## Error-Trend-Seasonality Decomposition\n",
    "\n",
    "We may want to separate the time series into the trend, the seasonality and the error component. ETS decomposition can be achieved by creating a generalized model that fits our data.\n",
    "\n",
    "`seasonal_decompose` from  `statsmodels` library can quickly provide a simple/naïve ETS decomposition:\n",
    "\n",
    "Each datapoint is split into a trend $Y_t$, seasonal $S_t$ and residual $e_t$ components.\n",
    "\n",
    "$$Y[t] = T[t] + S[t] + e[t]$$\n",
    "\n",
    "The trend is achieved by applying a convolution filter (a form of smoothing) to the data. \n",
    "\n",
    "To get the seasonality, first the trend is subtracted from the time series data and then the average period is computed for this de-trended series.\n",
    "\n",
    "The error is the maining residual separating the sum of the trend and seasonality from the original time series data."
   ]
  },
  {
   "cell_type": "code",
   "execution_count": null,
   "metadata": {},
   "outputs": [],
   "source": [
    "from statsmodels.tsa.seasonal import seasonal_decompose\n",
    "\n",
    "Decomposition = seasonal_decompose(schiphol['total_passengers'], model = 'additive', period=12)  \n",
    "\n",
    "with plt.rc_context():\n",
    "    plt.rc(\"figure\", figsize=(16,10))\n",
    "    Decomposition.plot();"
   ]
  },
  {
   "cell_type": "markdown",
   "metadata": {},
   "source": [
    "If the trend appears to be non-linear, `model='multiplicative'` option can be used, which implies the above decomposition with the terms multiplied rather than added up:\n",
    "\n",
    "$$Y[t] = T[t] * S[t] * e[t]$$"
   ]
  },
  {
   "cell_type": "code",
   "execution_count": null,
   "metadata": {},
   "outputs": [],
   "source": [
    "Decomposition = seasonal_decompose(schiphol['total_passengers'], model = 'multiplicative', period=12)  \n",
    "\n",
    "with plt.rc_context():\n",
    "    plt.rc(\"figure\", figsize=(16,10))\n",
    "    Decomposition.plot();"
   ]
  },
  {
   "cell_type": "markdown",
   "metadata": {},
   "source": [
    "We can directly access the separated data points for trend `Decomposition.trend`, seasonality `.seasonal` and residuals `.resid`"
   ]
  },
  {
   "cell_type": "code",
   "execution_count": null,
   "metadata": {},
   "outputs": [],
   "source": [
    "fig, ax = plt.subplots(figsize=(18,6))\n",
    "schiphol.plot(ax = ax)\n",
    "Decomposition.trend.plot(ax = ax);"
   ]
  },
  {
   "cell_type": "markdown",
   "metadata": {},
   "source": [
    "Building such decompositions helps to inspect and analyze the general behavior of a time series. \n",
    "\n",
    "**Note**: We are not using these models for forecasting - our focus for now is understanding the current data!"
   ]
  },
  {
   "cell_type": "markdown",
   "metadata": {},
   "source": [
    "Another quick way to detect any recurrent patterns in the data is by using the *autocorrelation plot*. **Autocorrelation**, defined as the correlation of a signal with a delayed copy of itself, illustrates to what extent the present of a series can be inferred from its past. Any cyclical patterns in the autocorrelation plot are likely signs of seasonal fluctuations:"
   ]
  },
  {
   "cell_type": "code",
   "execution_count": null,
   "metadata": {},
   "outputs": [],
   "source": [
    "from statsmodels.graphics.tsaplots import plot_acf\n",
    "fig, ax = plt.subplots(figsize = (16,4))\n",
    "plot_acf(schiphol['total_passengers'], lags=12, ax = ax);"
   ]
  },
  {
   "cell_type": "markdown",
   "metadata": {},
   "source": [
    "Intuitively, we notice there is more correlation with the data from 12 months ago than the data 6 months ago."
   ]
  },
  {
   "cell_type": "markdown",
   "metadata": {},
   "source": [
    "<a id='dws'></a>\n",
    "## Dealing with Seasonality\n",
    "Seasonality obscures the actual signal, which can complicate both understanding of the underlying processes and further forecasting. \n",
    "\n",
    "Understanding it gets us closer to what actually happens in the data ― which also means easier forecasting.\n",
    "\n",
    "One of the simplest ways to identify the main pattern(s) taking place in the data is to fit a linear regression. \n",
    "\n",
    "We can use it to learn the general trend of the data."
   ]
  },
  {
   "cell_type": "code",
   "execution_count": null,
   "metadata": {},
   "outputs": [],
   "source": [
    "schiphol['period_num'] = np.arange(len(schiphol.index))\n",
    "X = schiphol[['period_num']]\n",
    "y = schiphol['total_passengers'].values"
   ]
  },
  {
   "cell_type": "code",
   "execution_count": null,
   "metadata": {},
   "outputs": [],
   "source": [
    "lm = LinearRegression()"
   ]
  },
  {
   "cell_type": "code",
   "execution_count": null,
   "metadata": {},
   "outputs": [],
   "source": [
    "lm.fit(X, y)"
   ]
  },
  {
   "cell_type": "code",
   "execution_count": null,
   "metadata": {},
   "outputs": [],
   "source": [
    "schiphol['pass_lin_pred'] = lm.predict(X)"
   ]
  },
  {
   "cell_type": "code",
   "execution_count": null,
   "metadata": {},
   "outputs": [],
   "source": [
    "schiphol[['total_passengers','pass_lin_pred']].plot(figsize=(16,4));"
   ]
  },
  {
   "cell_type": "markdown",
   "metadata": {},
   "source": [
    "We can evaluate the fit using the $R^2$ score - the closer to 1, the better the model captures the patterns in the data. Note though that this does not yet necessarily mean better forecasting ― we will get to this in the next notebook."
   ]
  },
  {
   "cell_type": "code",
   "execution_count": null,
   "metadata": {},
   "outputs": [],
   "source": [
    "print(f\"R^2 is {round(lm.score(X, y),3)}\")"
   ]
  },
  {
   "cell_type": "markdown",
   "metadata": {},
   "source": [
    "A simple linear regression illustrates the overall passenger traffic growth over time, but (expectably) fails to take the 2009 drop into account. One way to correct this would be to introduce a dummy term for the data points after 2009:"
   ]
  },
  {
   "cell_type": "code",
   "execution_count": null,
   "metadata": {},
   "outputs": [],
   "source": [
    "schiphol['after2009'] = [1 if el>=pd.Timestamp('2009') else 0 for el in schiphol.index]\n",
    "\n",
    "X_break = (\n",
    "    schiphol[['period_num','after2009']]\n",
    "    .assign(interaction = lambda df: df.period_num*df.after2009)\n",
    ")\n",
    "X_break.loc['2008-11':'2009-02']"
   ]
  },
  {
   "cell_type": "markdown",
   "metadata": {},
   "source": [
    "<mark>**Question**: Why is it helpful to inclue an interaction term as well as the dummy variable?"
   ]
  },
  {
   "cell_type": "code",
   "execution_count": null,
   "metadata": {},
   "outputs": [],
   "source": [
    "lm_break = LinearRegression().fit(X_break, y)"
   ]
  },
  {
   "cell_type": "code",
   "execution_count": null,
   "metadata": {},
   "outputs": [],
   "source": [
    "print(f\"Model coefficients {lm_break.coef_}\")"
   ]
  },
  {
   "cell_type": "code",
   "execution_count": null,
   "metadata": {},
   "outputs": [],
   "source": [
    "print(f\"Model intercept {lm_break.intercept_}\")"
   ]
  },
  {
   "cell_type": "code",
   "execution_count": null,
   "metadata": {},
   "outputs": [],
   "source": [
    "schiphol['pass_lin_b_pred'] = lm_break.predict(X_break)"
   ]
  },
  {
   "cell_type": "code",
   "execution_count": null,
   "metadata": {
    "scrolled": true
   },
   "outputs": [],
   "source": [
    "schiphol[['total_passengers','pass_lin_b_pred']].plot(figsize=(16,4));"
   ]
  },
  {
   "cell_type": "code",
   "execution_count": null,
   "metadata": {},
   "outputs": [],
   "source": [
    "print(f\"R^2 is {round(lm_break.score(X_break, y),3)}\")"
   ]
  },
  {
   "cell_type": "markdown",
   "metadata": {},
   "source": [
    "This seems to be a much better fit. It also illustrates that even though passenger traffic dropped during the 2008-2009 Crisis, post-crisis growth appears to be more rapid than before."
   ]
  },
  {
   "cell_type": "markdown",
   "metadata": {},
   "source": [
    "<a id='fe'></a>\n",
    "## Feature Engineering\n",
    "\n",
    "We may want to do more than just identifying the trend though. \n",
    "\n",
    "Modeling the seasonality would allow us to understand and quantify the seasonal effects. And this means an ability to model not just the average behavior, but exact values during each season.\n",
    "\n",
    "A simple way to achieve this would be to add seasonal dummy terms to the baseline linear regression. In fact, *feature engineering* can be a very powerful tool in Time Series Analysis, allowing us to capture rather complex patterns with a few simple engineered variables added."
   ]
  },
  {
   "cell_type": "code",
   "execution_count": null,
   "metadata": {},
   "outputs": [],
   "source": [
    "schiphol['quarter']=schiphol.index.quarter\n",
    "\n",
    "X_quarter = schiphol[['period_num','quarter']]\n",
    "X_quarter.head()"
   ]
  },
  {
   "cell_type": "markdown",
   "metadata": {},
   "source": [
    "In the code below, we use `ColumnTransformer` - a handy tool from scikit-learn to apply some transformation to one column (*'quarter'*) and keep the rest unchanged. "
   ]
  },
  {
   "cell_type": "code",
   "execution_count": null,
   "metadata": {},
   "outputs": [],
   "source": [
    "from sklearn.preprocessing import OneHotEncoder\n",
    "from sklearn.compose import ColumnTransformer"
   ]
  },
  {
   "cell_type": "code",
   "execution_count": null,
   "metadata": {},
   "outputs": [],
   "source": [
    "feature_transformer = ColumnTransformer(\n",
    "     [('numeric', 'passthrough', ['period_num']),\n",
    "      ('categorical', OneHotEncoder(drop='first'), ['quarter'])]\n",
    ")"
   ]
  },
  {
   "cell_type": "code",
   "execution_count": null,
   "metadata": {},
   "outputs": [],
   "source": [
    "pd.DataFrame(columns = feature_transformer.fit(X_quarter).get_feature_names_out(),\n",
    "             data = feature_transformer.fit_transform(X_quarter)\n",
    "            )"
   ]
  },
  {
   "cell_type": "markdown",
   "metadata": {},
   "source": [
    "We further combine our preprocessing step with the model training using a Machine Learning pipeline from scikit-learn: a powerful way to keep both preprocessing and machine learning together in a single logical unit."
   ]
  },
  {
   "cell_type": "code",
   "execution_count": null,
   "metadata": {},
   "outputs": [],
   "source": [
    "from sklearn.pipeline import Pipeline\n",
    "\n",
    "lm_quarter = Pipeline([\n",
    "    ('preprocess', feature_transformer),\n",
    "    ('model', LinearRegression())\n",
    "])"
   ]
  },
  {
   "cell_type": "code",
   "execution_count": null,
   "metadata": {},
   "outputs": [],
   "source": [
    "lm_quarter.fit(X_quarter, y)"
   ]
  },
  {
   "cell_type": "code",
   "execution_count": null,
   "metadata": {},
   "outputs": [],
   "source": [
    "schiphol['pass_lin_q_pred'] = lm_quarter.predict(X_quarter)"
   ]
  },
  {
   "cell_type": "code",
   "execution_count": null,
   "metadata": {
    "scrolled": true
   },
   "outputs": [],
   "source": [
    "schiphol[['total_passengers','pass_lin_q_pred']].plot(figsize=(16,4));"
   ]
  },
  {
   "cell_type": "code",
   "execution_count": null,
   "metadata": {},
   "outputs": [],
   "source": [
    "print(f\"R^2 is {round(lm_quarter.score(X_quarter, y),3)}\")"
   ]
  },
  {
   "cell_type": "markdown",
   "metadata": {},
   "source": [
    "This simple model appears to reasonably capture the observed seasonality (even if it fails to acknowledge the drop after the 2008-2008 Financial Crisis). Actual seasonality seems more complex than just fixed quarterly jumps or drops, but this approach already illustrates the main patterns. \n",
    "\n",
    "Moreover, it already allows us to separate seasonality from the trend and the residuals. We can compute the average seasonal effeect by averaging out the seasonal coefficients.:"
   ]
  },
  {
   "cell_type": "code",
   "execution_count": null,
   "metadata": {},
   "outputs": [],
   "source": [
    "print(f\"Seasonal coefficients {lm_quarter['model'].coef_[1:]}\")"
   ]
  },
  {
   "cell_type": "code",
   "execution_count": null,
   "metadata": {},
   "outputs": [],
   "source": [
    "average_season_effect = (0.25 * lm_quarter['model'].coef_[1:]).sum()\n",
    "average_season_effect"
   ]
  },
  {
   "cell_type": "markdown",
   "metadata": {},
   "source": [
    "We can then use this average seasonal effect to compute an ETS decomposition."
   ]
  },
  {
   "cell_type": "code",
   "execution_count": null,
   "metadata": {},
   "outputs": [],
   "source": [
    "simple_ets = (\n",
    "    schiphol\n",
    "    .loc[:,['total_passengers','pass_lin_q_pred']]\n",
    "    .rename(columns={\"total_passengers\": \"y_real\", \"pass_lin_q_pred\": \"y_hat\"})\n",
    "    .assign(trend = lambda df: lm_quarter['model'].coef_[0]*np.arange(len(df))\n",
    "                               + average_season_effect\n",
    "                               + lm_quarter['model'].intercept_,\n",
    "            seasonal = lambda df: df['y_hat'] - df['trend'],\n",
    "            residuals = lambda df: df['y_real'] - df['y_hat'])\n",
    ")\n",
    "simple_ets.head()"
   ]
  },
  {
   "cell_type": "code",
   "execution_count": null,
   "metadata": {},
   "outputs": [],
   "source": [
    "simple_ets[['y_real','y_hat','trend']].plot(figsize=(16,4))\n",
    "simple_ets[['seasonal']].plot(figsize=(16,2), c='m')\n",
    "simple_ets[['residuals']].plot(figsize=(16,2), c='r');"
   ]
  },
  {
   "cell_type": "markdown",
   "metadata": {},
   "source": [
    "Having broken down a time series into its major components, we can now also *detrend* or *deseasonalize* it by subtracting the respective components. This can provide us with a clearer picture of what is going on over time aside from the trend and/or the seasonal fluctuations."
   ]
  },
  {
   "cell_type": "code",
   "execution_count": null,
   "metadata": {},
   "outputs": [],
   "source": [
    "simple_ets = (simple_ets\n",
    "              .assign(deseasonalized = lambda df: df['y_real']-df['seasonal'],\n",
    "                      detrended = lambda df: df['y_real']-df['trend']))\n",
    "\n",
    "simple_ets[['deseasonalized']].plot(figsize=(16,3), c='g', label=\"deseasonalized time series\")\n",
    "simple_ets[['detrended']].plot(figsize=(16,3), c='m', label=\"detrended time series\");"
   ]
  },
  {
   "cell_type": "markdown",
   "metadata": {},
   "source": [
    "In case it is unclear from the residuals plot, we can also inspect the autocorrelation plot for the residuals to see if we have likely missed some important (seasonal) patterns with out model. In this case, based on the remaining autocorrelation in the residuals, our seasonality representation is clearly a bit too simplistic:"
   ]
  },
  {
   "cell_type": "code",
   "execution_count": null,
   "metadata": {
    "scrolled": true
   },
   "outputs": [],
   "source": [
    "fig, ax = plt.subplots(figsize=(16,4))\n",
    "plot_acf(simple_ets['residuals'], lags=12, ax=ax);"
   ]
  },
  {
   "cell_type": "markdown",
   "metadata": {},
   "source": [
    "<a id='as1'></a>\n",
    "## Assignment: Monthly Dummies\n",
    "\n",
    "- Instead of the quarterly dummies, add monthly dummies\n",
    "- Add a post-2009 dummy\n",
    "- **Optional**: add interaction and polynomial terms for all features\n",
    "\n",
    "Fit the resulting model: is it a better fit?\n",
    "\n",
    "*you can load an example answer below:*"
   ]
  },
  {
   "cell_type": "code",
   "execution_count": null,
   "metadata": {},
   "outputs": [],
   "source": [
    "# %load answers/month_dummies.py"
   ]
  },
  {
   "cell_type": "markdown",
   "metadata": {},
   "source": [
    "<a id='gsf'></a>\n",
    "## Gradual Seasonal Filtering\n",
    "\n",
    "Often seasonal effects do not come just as fixed spikes or drops. They may have gradually increasing and decreasing effects as their peak approaches and moves away in time. \n",
    "\n",
    "In such cases we may want to use a neat alternative to seasonal dummies: *gradual seasonal filters*."
   ]
  },
  {
   "cell_type": "markdown",
   "metadata": {},
   "source": [
    "There are a variety of such features that we could create. \n",
    "\n",
    "### Linear\n",
    "\n",
    "A simple yet effective example are linear monthly spikes:\n",
    "\n",
    "$$ \\phi(x_i) = \\max( 1 - \\frac{| x - x^*|}{n} , 0)$$\n",
    "\n",
    "where $x$ is a given data point, $x^*$ is the peak of the current filter, and $n$ is the interval of growth/decline of the spike around the peak (e.g. 30 days). "
   ]
  },
  {
   "cell_type": "code",
   "execution_count": null,
   "metadata": {},
   "outputs": [],
   "source": [
    "def gsf_feature_maker(day, center_day, year_days = 365, n=30):\n",
    "    return np.max(\n",
    "        [np.fmax(-np.abs(day - center_day)/n + 1, 0),\n",
    "        np.fmax(-np.abs(day + year_days - center_day)/n + 1, 0),  #ensures continuity for December-January\n",
    "        np.fmax(-np.abs(day - year_days - center_day)/n + 1, 0)]) #ensures continuity for December-January"
   ]
  },
  {
   "cell_type": "markdown",
   "metadata": {},
   "source": [
    "In practice, a filter like this translates into a variable with values the closer to 1 (or to 0), the closer (or the further) a particular date is from the given peak."
   ]
  },
  {
   "cell_type": "code",
   "execution_count": null,
   "metadata": {},
   "outputs": [],
   "source": [
    "base = [gsf_feature_maker(el, 15) for el in np.arange(365)]\n",
    "plt.figure(figsize = (17,3))\n",
    "plt.plot(base);"
   ]
  },
  {
   "cell_type": "markdown",
   "metadata": {},
   "source": [
    "A separate filter can be assigned to each potential seasonal peak — each month in the example below."
   ]
  },
  {
   "cell_type": "code",
   "execution_count": null,
   "metadata": {},
   "outputs": [],
   "source": [
    "months = pd.date_range('2008-01-01', periods = 12, freq = 'M')\n",
    "\n",
    "fig, ax = plt.subplots(figsize=(17,3))\n",
    "for month in months:\n",
    "    ax.plot([gsf_feature_maker(el, month.dayofyear) for el in np.arange(365)])"
   ]
  },
  {
   "cell_type": "markdown",
   "metadata": {},
   "source": [
    "This means an effect is not felt uniformly across a month, but increases/decreases depending on the distance from the desginated centre."
   ]
  },
  {
   "cell_type": "markdown",
   "metadata": {},
   "source": [
    "### Guassian\n",
    "\n",
    "Another commonly used option are filters based on a *Gaussian distribution*:\n",
    "\n",
    "$$ \\phi(x_i) = \\exp [ - \\frac{1}{2\\alpha} (x-m_i)^2]$$\n",
    "\n",
    "where $x$ is a given data point, $m_i$ is the peak of the current filter, and $\\alpha$ is a parameter responsible for the spread of the distribution. "
   ]
  },
  {
   "cell_type": "code",
   "execution_count": null,
   "metadata": {},
   "outputs": [],
   "source": [
    "def rbf_feature_values(day, center_day, year_days = 365, alpha = 0.005):\n",
    "    return np.max(\n",
    "        [np.exp(-((day - center_day)**2) / 2*alpha),\n",
    "        np.exp(-((day + int(year_days) - center_day)**2) / 2*alpha)]) #ensures continuity for December-January"
   ]
  },
  {
   "cell_type": "markdown",
   "metadata": {},
   "source": [
    "Again, a filter like this translates into a variable with values the closer to 1 (or to 0), the closer (or the further) a particular date is from the given peak. However, the effect is much smoother.\n",
    "\n",
    "Depending on $\\alpha$, very steep or very gradual filters can be created.  Such gradual filters could be especially handy when dealing with daily (or even hourly) data that typically exhibits more gradual seasonal effects. "
   ]
  },
  {
   "cell_type": "code",
   "execution_count": null,
   "metadata": {
    "scrolled": true
   },
   "outputs": [],
   "source": [
    "base = [rbf_feature_values(el, 350, alpha = 0.001) for el in np.arange(365)]\n",
    "plt.figure(figsize = (17,3))\n",
    "plt.plot(base);"
   ]
  },
  {
   "cell_type": "markdown",
   "metadata": {},
   "source": [
    "Again, a separate filter can be assigned to each potential seasonal peak — each month in the example below."
   ]
  },
  {
   "cell_type": "code",
   "execution_count": null,
   "metadata": {},
   "outputs": [],
   "source": [
    "months = pd.date_range('2008-01-01', periods = 12, freq = 'M')\n",
    "\n",
    "fig, ax = plt.subplots(figsize=(17,3))\n",
    "for month in months:\n",
    "    ax.plot([rbf_feature_values(el, month.dayofyear) for el in np.arange(365)])"
   ]
  },
  {
   "cell_type": "markdown",
   "metadata": {},
   "source": [
    "### Modelling with a seasonal filter\n",
    "\n",
    "We will use the Gaussian filter to add seasonal features to our data"
   ]
  },
  {
   "cell_type": "code",
   "execution_count": null,
   "metadata": {},
   "outputs": [],
   "source": [
    "schiphol_rbf = (\n",
    "    schiphol\n",
    "    [['total_passengers', 'after2009']]\n",
    "    .assign(month = lambda df: df.index.month)\n",
    ")\n",
    "schiphol_rbf.head()"
   ]
  },
  {
   "cell_type": "code",
   "execution_count": null,
   "metadata": {},
   "outputs": [],
   "source": [
    "#Adding 12 RBF features to the dataset\n",
    "from calendar import month_name\n",
    "month_in_days = [date.dayofyear for date in schiphol_rbf.index[:12]]\n",
    "\n",
    "for i in range(12):\n",
    "    feature_name = month_name[i+1]\n",
    "    peak = month_in_days[i]\n",
    "    schiphol_rbf[feature_name] = [rbf_feature_values(date.dayofyear, peak).round(2) for date in schiphol_rbf.index]"
   ]
  },
  {
   "cell_type": "markdown",
   "metadata": {},
   "source": [
    "We now have 12 extra features corresponding to the effects of Gaussians filters for each month."
   ]
  },
  {
   "cell_type": "code",
   "execution_count": null,
   "metadata": {},
   "outputs": [],
   "source": [
    "schiphol_rbf.head()"
   ]
  },
  {
   "cell_type": "markdown",
   "metadata": {},
   "source": [
    "Now we can illustrate how such RBF features look like for our dataset, where we only have monthly (not-daily) values:"
   ]
  },
  {
   "cell_type": "code",
   "execution_count": null,
   "metadata": {},
   "outputs": [],
   "source": [
    "schiphol_rbf[['April', 'October']].loc['2014':].plot(figsize=(17,3));"
   ]
  },
  {
   "cell_type": "markdown",
   "metadata": {},
   "source": [
    "we can train a model using these RBF features:"
   ]
  },
  {
   "cell_type": "code",
   "execution_count": null,
   "metadata": {},
   "outputs": [],
   "source": [
    "time_var = np.arange(len(schiphol_rbf.index)).reshape(-1, 1)\n",
    "X_rbf = np.c_[time_var, schiphol_rbf.iloc[:,3:]]\n",
    "y = schiphol_rbf['total_passengers']"
   ]
  },
  {
   "cell_type": "code",
   "execution_count": null,
   "metadata": {},
   "outputs": [],
   "source": [
    "lm_rbf = LinearRegression().fit(X_rbf, y)"
   ]
  },
  {
   "cell_type": "code",
   "execution_count": null,
   "metadata": {},
   "outputs": [],
   "source": [
    "schiphol_rbf['pass_rbf_pred'] = lm_rbf.predict(X_rbf)"
   ]
  },
  {
   "cell_type": "code",
   "execution_count": null,
   "metadata": {},
   "outputs": [],
   "source": [
    "schiphol_rbf[['total_passengers','pass_rbf_pred']].plot(figsize=(16,4));"
   ]
  },
  {
   "cell_type": "code",
   "execution_count": null,
   "metadata": {},
   "outputs": [],
   "source": [
    "print(f\"R^2 is {round(lm_rbf.score(X_rbf, y),3)}\")"
   ]
  },
  {
   "cell_type": "markdown",
   "metadata": {},
   "source": [
    "### RBF with Scikit-Lego\n",
    "\n",
    "In case you do not want to create such RBF features manually, this preprocessing method is already implemented in a library called [Scikit-Lego](https://scikit-lego.netlify.app/index.html):"
   ]
  },
  {
   "cell_type": "code",
   "execution_count": null,
   "metadata": {},
   "outputs": [],
   "source": [
    "from sklego.preprocessing import RepeatingBasisFunction\n",
    "\n",
    "rbf = RepeatingBasisFunction(n_periods=12,\n",
    "                             remainder='passthrough',\n",
    "                             column='month',\n",
    "                             input_range=(1,13))"
   ]
  },
  {
   "cell_type": "code",
   "execution_count": null,
   "metadata": {},
   "outputs": [],
   "source": [
    "Xt = rbf.fit_transform(schiphol_rbf[['month']])\n",
    "sklego_rbf = pd.DataFrame(columns=month_name[1:], data=Xt).round(2)\n",
    "sklego_rbf.head(12)"
   ]
  },
  {
   "cell_type": "code",
   "execution_count": null,
   "metadata": {
    "scrolled": true
   },
   "outputs": [],
   "source": [
    "# February\n",
    "sklego_rbf.iloc[:12,1].plot();"
   ]
  },
  {
   "cell_type": "markdown",
   "metadata": {},
   "source": [
    "### Gradual Seasonal Filtering Summary\n",
    "\n",
    "**Pros** \n",
    "\n",
    "- Simple feature engineering trick\n",
    "- All variables are interpretable\n",
    "- Seasonal effects can be quantified\n",
    "- Can filter out the long term seasonality, other fluctuations can be modeled separately\n",
    "\n",
    "**Cons** \n",
    "\n",
    "- The model can get a bit biased to beliefs about seasonality\n",
    "- The model may have issues if the seasonality changes over time"
   ]
  },
  {
   "cell_type": "markdown",
   "metadata": {},
   "source": [
    "<a id='ncs'></a>\n",
    "## Non-Constant Seasonality\n",
    "\n",
    "One drawback of simple RBF features that we have used above is that they model constant seasonality, while this may often be an incorrect assumption. We have seen above that the fitted cycles are perhaps too large for the first few years and too small for the last few years.\n",
    "\n",
    "A simple solution to this problem is to create a new set of similar rbf features but then multiplied by the time period. This will allow fitted seasonal cycles to scale with time"
   ]
  },
  {
   "cell_type": "markdown",
   "metadata": {},
   "source": [
    "<a id='as2'></a>\n",
    "## Assignment: Non-Constant Seasonality \n",
    "\n",
    "- Add 12 new rbf and time interaction features (rbf x time) to our previous model. \n",
    "- Also add the after2009 dummy. \n",
    "- Fit the model and plot the results.\n",
    "\n",
    "What changed about seasonality?\n",
    "\n",
    "*you can load the answer below:*"
   ]
  },
  {
   "cell_type": "code",
   "execution_count": null,
   "metadata": {},
   "outputs": [],
   "source": [
    "# %load answers/nc_seasonality.py"
   ]
  },
  {
   "cell_type": "markdown",
   "metadata": {},
   "source": [
    "<a id='sum'></a>\n",
    "## Summary\n",
    "\n",
    "We have covered: \n",
    "\n",
    "- How time series data can be broken down into components:\n",
    "    - Trends \n",
    "    - Seasonality \n",
    "    - Non-cyclical components \n",
    "    - Residuals \n",
    "- How to model the trend using linear regression.\n",
    "- How to model seasonality using dummy variables and gradual seaonal filters."
   ]
  }
 ],
 "metadata": {
  "kernelspec": {
   "display_name": "Python 3 (ipykernel)",
   "language": "python",
   "name": "python3"
  },
  "language_info": {
   "codemirror_mode": {
    "name": "ipython",
    "version": 3
   },
   "file_extension": ".py",
   "mimetype": "text/x-python",
   "name": "python",
   "nbconvert_exporter": "python",
   "pygments_lexer": "ipython3",
   "version": "3.9.15"
  }
 },
 "nbformat": 4,
 "nbformat_minor": 4
}
