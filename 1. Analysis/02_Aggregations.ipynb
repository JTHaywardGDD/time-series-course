{
 "cells": [
  {
   "cell_type": "markdown",
   "metadata": {},
   "source": [
    "<img src=images/logo.png align='right' width=200>\n",
    "\n",
    "# Time Series Aggregations\n",
    "\n",
    "## Goal\n",
    "\n",
    "Our next step is to get introduced to a real time series dataset and learn some fundamental analysis techniques.\n",
    "\n",
    "We shall first focus on how to group the data by time periods.\n",
    "\n",
    "## Program\n",
    "- [Reading in Time Series Data](#read)\n",
    "- [Aggregations: `resample()`](#agg1)\n",
    "- [Aggregations: `transform()`](#agg2)\n",
    "- [Summary](#sum)\n"
   ]
  },
  {
   "cell_type": "code",
   "execution_count": 1,
   "metadata": {},
   "outputs": [],
   "source": [
    "import pandas as pd\n",
    "import numpy as np\n",
    "import seaborn as sns"
   ]
  },
  {
   "cell_type": "markdown",
   "metadata": {},
   "source": [
    "<a id='read'></a>\n",
    "\n",
    "## Reading in Time Series Data\n",
    "<img src=images/plug.jpeg  width=200>\n",
    "\n",
    "Throughout the this notebook we will use the *household power consumption* dataset. It comes from [UCI ML repo](https://archive.ics.uci.edu/ml/datasets/individual+household+electric+power+consumption) and contains detailed power consumption time series data of a single household in Paris between 2006 and 2010."
   ]
  },
  {
   "cell_type": "code",
   "execution_count": 2,
   "metadata": {},
   "outputs": [
    {
     "data": {
      "text/html": [
       "<div>\n",
       "<style scoped>\n",
       "    .dataframe tbody tr th:only-of-type {\n",
       "        vertical-align: middle;\n",
       "    }\n",
       "\n",
       "    .dataframe tbody tr th {\n",
       "        vertical-align: top;\n",
       "    }\n",
       "\n",
       "    .dataframe thead th {\n",
       "        text-align: right;\n",
       "    }\n",
       "</style>\n",
       "<table border=\"1\" class=\"dataframe\">\n",
       "  <thead>\n",
       "    <tr style=\"text-align: right;\">\n",
       "      <th></th>\n",
       "      <th>ts</th>\n",
       "      <th>consumption</th>\n",
       "    </tr>\n",
       "  </thead>\n",
       "  <tbody>\n",
       "    <tr>\n",
       "      <th>0</th>\n",
       "      <td>2006-12-16 17:24:00</td>\n",
       "      <td>52.266667</td>\n",
       "    </tr>\n",
       "    <tr>\n",
       "      <th>1</th>\n",
       "      <td>2006-12-16 17:25:00</td>\n",
       "      <td>72.333333</td>\n",
       "    </tr>\n",
       "    <tr>\n",
       "      <th>2</th>\n",
       "      <td>2006-12-16 17:26:00</td>\n",
       "      <td>70.566667</td>\n",
       "    </tr>\n",
       "    <tr>\n",
       "      <th>3</th>\n",
       "      <td>2006-12-16 17:27:00</td>\n",
       "      <td>71.800000</td>\n",
       "    </tr>\n",
       "    <tr>\n",
       "      <th>4</th>\n",
       "      <td>2006-12-16 17:28:00</td>\n",
       "      <td>43.100000</td>\n",
       "    </tr>\n",
       "  </tbody>\n",
       "</table>\n",
       "</div>"
      ],
      "text/plain": [
       "                    ts  consumption\n",
       "0  2006-12-16 17:24:00    52.266667\n",
       "1  2006-12-16 17:25:00    72.333333\n",
       "2  2006-12-16 17:26:00    70.566667\n",
       "3  2006-12-16 17:27:00    71.800000\n",
       "4  2006-12-16 17:28:00    43.100000"
      ]
     },
     "execution_count": 2,
     "metadata": {},
     "output_type": "execute_result"
    }
   ],
   "source": [
    "power = pd.read_csv('data/household_power_consumption.csv')\n",
    "power.head()"
   ]
  },
  {
   "cell_type": "markdown",
   "metadata": {},
   "source": [
    "Notice how our time data is currently recognised as strings."
   ]
  },
  {
   "cell_type": "code",
   "execution_count": 3,
   "metadata": {},
   "outputs": [
    {
     "name": "stdout",
     "output_type": "stream",
     "text": [
      "<class 'pandas.core.frame.DataFrame'>\n",
      "RangeIndex: 2075259 entries, 0 to 2075258\n",
      "Data columns (total 2 columns):\n",
      " #   Column       Dtype  \n",
      "---  ------       -----  \n",
      " 0   ts           object \n",
      " 1   consumption  float64\n",
      "dtypes: float64(1), object(1)\n",
      "memory usage: 31.7+ MB\n"
     ]
    }
   ],
   "source": [
    "power.info()"
   ]
  },
  {
   "cell_type": "markdown",
   "metadata": {},
   "source": [
    "Typically timestamp data is contained in a separate column of standard strings. However, we want to make it machine-readable. In order to achieve this, we can set `parse_dates` with the list of columns to be converted to Pandas timestamp when reading the data with `pd.read_csv`. This automatically identifies the format of the dates. "
   ]
  },
  {
   "cell_type": "code",
   "execution_count": 4,
   "metadata": {},
   "outputs": [
    {
     "data": {
      "text/html": [
       "<div>\n",
       "<style scoped>\n",
       "    .dataframe tbody tr th:only-of-type {\n",
       "        vertical-align: middle;\n",
       "    }\n",
       "\n",
       "    .dataframe tbody tr th {\n",
       "        vertical-align: top;\n",
       "    }\n",
       "\n",
       "    .dataframe thead th {\n",
       "        text-align: right;\n",
       "    }\n",
       "</style>\n",
       "<table border=\"1\" class=\"dataframe\">\n",
       "  <thead>\n",
       "    <tr style=\"text-align: right;\">\n",
       "      <th></th>\n",
       "      <th>ts</th>\n",
       "      <th>consumption</th>\n",
       "    </tr>\n",
       "  </thead>\n",
       "  <tbody>\n",
       "    <tr>\n",
       "      <th>0</th>\n",
       "      <td>2006-12-16 17:24:00</td>\n",
       "      <td>52.266667</td>\n",
       "    </tr>\n",
       "    <tr>\n",
       "      <th>1</th>\n",
       "      <td>2006-12-16 17:25:00</td>\n",
       "      <td>72.333333</td>\n",
       "    </tr>\n",
       "    <tr>\n",
       "      <th>2</th>\n",
       "      <td>2006-12-16 17:26:00</td>\n",
       "      <td>70.566667</td>\n",
       "    </tr>\n",
       "    <tr>\n",
       "      <th>3</th>\n",
       "      <td>2006-12-16 17:27:00</td>\n",
       "      <td>71.800000</td>\n",
       "    </tr>\n",
       "    <tr>\n",
       "      <th>4</th>\n",
       "      <td>2006-12-16 17:28:00</td>\n",
       "      <td>43.100000</td>\n",
       "    </tr>\n",
       "  </tbody>\n",
       "</table>\n",
       "</div>"
      ],
      "text/plain": [
       "                   ts  consumption\n",
       "0 2006-12-16 17:24:00    52.266667\n",
       "1 2006-12-16 17:25:00    72.333333\n",
       "2 2006-12-16 17:26:00    70.566667\n",
       "3 2006-12-16 17:27:00    71.800000\n",
       "4 2006-12-16 17:28:00    43.100000"
      ]
     },
     "execution_count": 4,
     "metadata": {},
     "output_type": "execute_result"
    }
   ],
   "source": [
    "power = pd.read_csv('data/household_power_consumption.csv', parse_dates=['ts'])\n",
    "power.head()"
   ]
  },
  {
   "cell_type": "code",
   "execution_count": 5,
   "metadata": {},
   "outputs": [
    {
     "name": "stdout",
     "output_type": "stream",
     "text": [
      "<class 'pandas.core.frame.DataFrame'>\n",
      "RangeIndex: 2075259 entries, 0 to 2075258\n",
      "Data columns (total 2 columns):\n",
      " #   Column       Dtype         \n",
      "---  ------       -----         \n",
      " 0   ts           datetime64[ns]\n",
      " 1   consumption  float64       \n",
      "dtypes: datetime64[ns](1), float64(1)\n",
      "memory usage: 31.7 MB\n"
     ]
    }
   ],
   "source": [
    "power.info()"
   ]
  },
  {
   "cell_type": "markdown",
   "metadata": {},
   "source": [
    "Explicit formatting may be a good idea if we suspect possible errors and non-standard formats in some of the rows. This will ensure that we get an error message if any value does not match our specified format."
   ]
  },
  {
   "cell_type": "code",
   "execution_count": 6,
   "metadata": {},
   "outputs": [
    {
     "data": {
      "text/html": [
       "<div>\n",
       "<style scoped>\n",
       "    .dataframe tbody tr th:only-of-type {\n",
       "        vertical-align: middle;\n",
       "    }\n",
       "\n",
       "    .dataframe tbody tr th {\n",
       "        vertical-align: top;\n",
       "    }\n",
       "\n",
       "    .dataframe thead th {\n",
       "        text-align: right;\n",
       "    }\n",
       "</style>\n",
       "<table border=\"1\" class=\"dataframe\">\n",
       "  <thead>\n",
       "    <tr style=\"text-align: right;\">\n",
       "      <th></th>\n",
       "      <th>ts</th>\n",
       "      <th>consumption</th>\n",
       "    </tr>\n",
       "  </thead>\n",
       "  <tbody>\n",
       "    <tr>\n",
       "      <th>0</th>\n",
       "      <td>2006-12-16 17:24:00</td>\n",
       "      <td>52.266667</td>\n",
       "    </tr>\n",
       "    <tr>\n",
       "      <th>1</th>\n",
       "      <td>2006-12-16 17:25:00</td>\n",
       "      <td>72.333333</td>\n",
       "    </tr>\n",
       "    <tr>\n",
       "      <th>2</th>\n",
       "      <td>2006-12-16 17:26:00</td>\n",
       "      <td>70.566667</td>\n",
       "    </tr>\n",
       "    <tr>\n",
       "      <th>3</th>\n",
       "      <td>2006-12-16 17:27:00</td>\n",
       "      <td>71.800000</td>\n",
       "    </tr>\n",
       "    <tr>\n",
       "      <th>4</th>\n",
       "      <td>2006-12-16 17:28:00</td>\n",
       "      <td>43.100000</td>\n",
       "    </tr>\n",
       "    <tr>\n",
       "      <th>...</th>\n",
       "      <td>...</td>\n",
       "      <td>...</td>\n",
       "    </tr>\n",
       "    <tr>\n",
       "      <th>2075254</th>\n",
       "      <td>2010-11-26 20:58:00</td>\n",
       "      <td>15.766667</td>\n",
       "    </tr>\n",
       "    <tr>\n",
       "      <th>2075255</th>\n",
       "      <td>2010-11-26 20:59:00</td>\n",
       "      <td>15.733333</td>\n",
       "    </tr>\n",
       "    <tr>\n",
       "      <th>2075256</th>\n",
       "      <td>2010-11-26 21:00:00</td>\n",
       "      <td>15.633333</td>\n",
       "    </tr>\n",
       "    <tr>\n",
       "      <th>2075257</th>\n",
       "      <td>2010-11-26 21:01:00</td>\n",
       "      <td>15.566667</td>\n",
       "    </tr>\n",
       "    <tr>\n",
       "      <th>2075258</th>\n",
       "      <td>2010-11-26 21:02:00</td>\n",
       "      <td>15.533333</td>\n",
       "    </tr>\n",
       "  </tbody>\n",
       "</table>\n",
       "<p>2075259 rows × 2 columns</p>\n",
       "</div>"
      ],
      "text/plain": [
       "                         ts  consumption\n",
       "0       2006-12-16 17:24:00    52.266667\n",
       "1       2006-12-16 17:25:00    72.333333\n",
       "2       2006-12-16 17:26:00    70.566667\n",
       "3       2006-12-16 17:27:00    71.800000\n",
       "4       2006-12-16 17:28:00    43.100000\n",
       "...                     ...          ...\n",
       "2075254 2010-11-26 20:58:00    15.766667\n",
       "2075255 2010-11-26 20:59:00    15.733333\n",
       "2075256 2010-11-26 21:00:00    15.633333\n",
       "2075257 2010-11-26 21:01:00    15.566667\n",
       "2075258 2010-11-26 21:02:00    15.533333\n",
       "\n",
       "[2075259 rows x 2 columns]"
      ]
     },
     "execution_count": 6,
     "metadata": {},
     "output_type": "execute_result"
    }
   ],
   "source": [
    "power_unformatted = pd.read_csv('data/household_power_consumption.csv')\n",
    "(\n",
    "    power_unformatted\n",
    "    .assign(ts = pd.to_datetime(power_unformatted['ts'], format='%Y-%m-%d %H:%M:%S'))\n",
    ")"
   ]
  },
  {
   "cell_type": "markdown",
   "metadata": {},
   "source": [
    "We can then access information in the dataset using standard Pandas techniques. \n",
    "\n",
    "Below we demonstrate how to select all the data recorded on 17th December 2006."
   ]
  },
  {
   "cell_type": "code",
   "execution_count": 10,
   "metadata": {},
   "outputs": [
    {
     "data": {
      "text/plain": [
       "Timestamp('2006-12-17 00:00:00')"
      ]
     },
     "execution_count": 10,
     "metadata": {},
     "output_type": "execute_result"
    }
   ],
   "source": [
    "pd.Timestamp('2006-12-17')"
   ]
  },
  {
   "cell_type": "code",
   "execution_count": 9,
   "metadata": {},
   "outputs": [
    {
     "data": {
      "text/html": [
       "<div>\n",
       "<style scoped>\n",
       "    .dataframe tbody tr th:only-of-type {\n",
       "        vertical-align: middle;\n",
       "    }\n",
       "\n",
       "    .dataframe tbody tr th {\n",
       "        vertical-align: top;\n",
       "    }\n",
       "\n",
       "    .dataframe thead th {\n",
       "        text-align: right;\n",
       "    }\n",
       "</style>\n",
       "<table border=\"1\" class=\"dataframe\">\n",
       "  <thead>\n",
       "    <tr style=\"text-align: right;\">\n",
       "      <th></th>\n",
       "      <th>ts</th>\n",
       "      <th>consumption</th>\n",
       "    </tr>\n",
       "  </thead>\n",
       "  <tbody>\n",
       "    <tr>\n",
       "      <th>396</th>\n",
       "      <td>2006-12-17</td>\n",
       "      <td>15.4</td>\n",
       "    </tr>\n",
       "  </tbody>\n",
       "</table>\n",
       "</div>"
      ],
      "text/plain": [
       "            ts  consumption\n",
       "396 2006-12-17         15.4"
      ]
     },
     "execution_count": 9,
     "metadata": {},
     "output_type": "execute_result"
    }
   ],
   "source": [
    "(\n",
    "    power\n",
    "    .loc[(power['ts'] == pd.Timestamp('2006-12-17')) ]\n",
    ")"
   ]
  },
  {
   "cell_type": "code",
   "execution_count": 7,
   "metadata": {},
   "outputs": [
    {
     "data": {
      "text/html": [
       "<div>\n",
       "<style scoped>\n",
       "    .dataframe tbody tr th:only-of-type {\n",
       "        vertical-align: middle;\n",
       "    }\n",
       "\n",
       "    .dataframe tbody tr th {\n",
       "        vertical-align: top;\n",
       "    }\n",
       "\n",
       "    .dataframe thead th {\n",
       "        text-align: right;\n",
       "    }\n",
       "</style>\n",
       "<table border=\"1\" class=\"dataframe\">\n",
       "  <thead>\n",
       "    <tr style=\"text-align: right;\">\n",
       "      <th></th>\n",
       "      <th>ts</th>\n",
       "      <th>consumption</th>\n",
       "    </tr>\n",
       "  </thead>\n",
       "  <tbody>\n",
       "    <tr>\n",
       "      <th>396</th>\n",
       "      <td>2006-12-17 00:00:00</td>\n",
       "      <td>15.400000</td>\n",
       "    </tr>\n",
       "    <tr>\n",
       "      <th>397</th>\n",
       "      <td>2006-12-17 00:01:00</td>\n",
       "      <td>24.333333</td>\n",
       "    </tr>\n",
       "    <tr>\n",
       "      <th>398</th>\n",
       "      <td>2006-12-17 00:02:00</td>\n",
       "      <td>48.633333</td>\n",
       "    </tr>\n",
       "    <tr>\n",
       "      <th>399</th>\n",
       "      <td>2006-12-17 00:03:00</td>\n",
       "      <td>48.566667</td>\n",
       "    </tr>\n",
       "    <tr>\n",
       "      <th>400</th>\n",
       "      <td>2006-12-17 00:04:00</td>\n",
       "      <td>45.433333</td>\n",
       "    </tr>\n",
       "    <tr>\n",
       "      <th>...</th>\n",
       "      <td>...</td>\n",
       "      <td>...</td>\n",
       "    </tr>\n",
       "    <tr>\n",
       "      <th>1831</th>\n",
       "      <td>2006-12-17 23:55:00</td>\n",
       "      <td>3.600000</td>\n",
       "    </tr>\n",
       "    <tr>\n",
       "      <th>1832</th>\n",
       "      <td>2006-12-17 23:56:00</td>\n",
       "      <td>3.566667</td>\n",
       "    </tr>\n",
       "    <tr>\n",
       "      <th>1833</th>\n",
       "      <td>2006-12-17 23:57:00</td>\n",
       "      <td>3.566667</td>\n",
       "    </tr>\n",
       "    <tr>\n",
       "      <th>1834</th>\n",
       "      <td>2006-12-17 23:58:00</td>\n",
       "      <td>3.566667</td>\n",
       "    </tr>\n",
       "    <tr>\n",
       "      <th>1835</th>\n",
       "      <td>2006-12-17 23:59:00</td>\n",
       "      <td>3.600000</td>\n",
       "    </tr>\n",
       "  </tbody>\n",
       "</table>\n",
       "<p>1440 rows × 2 columns</p>\n",
       "</div>"
      ],
      "text/plain": [
       "                      ts  consumption\n",
       "396  2006-12-17 00:00:00    15.400000\n",
       "397  2006-12-17 00:01:00    24.333333\n",
       "398  2006-12-17 00:02:00    48.633333\n",
       "399  2006-12-17 00:03:00    48.566667\n",
       "400  2006-12-17 00:04:00    45.433333\n",
       "...                  ...          ...\n",
       "1831 2006-12-17 23:55:00     3.600000\n",
       "1832 2006-12-17 23:56:00     3.566667\n",
       "1833 2006-12-17 23:57:00     3.566667\n",
       "1834 2006-12-17 23:58:00     3.566667\n",
       "1835 2006-12-17 23:59:00     3.600000\n",
       "\n",
       "[1440 rows x 2 columns]"
      ]
     },
     "execution_count": 7,
     "metadata": {},
     "output_type": "execute_result"
    }
   ],
   "source": [
    "(\n",
    "    power\n",
    "    .loc[(power['ts'] >= pd.Timestamp('2006-12-17')) &\n",
    "         (power['ts'] < pd.Timestamp('2006-12-18'))]\n",
    ")"
   ]
  },
  {
   "cell_type": "code",
   "execution_count": 8,
   "metadata": {},
   "outputs": [
    {
     "data": {
      "text/html": [
       "<div>\n",
       "<style scoped>\n",
       "    .dataframe tbody tr th:only-of-type {\n",
       "        vertical-align: middle;\n",
       "    }\n",
       "\n",
       "    .dataframe tbody tr th {\n",
       "        vertical-align: top;\n",
       "    }\n",
       "\n",
       "    .dataframe thead th {\n",
       "        text-align: right;\n",
       "    }\n",
       "</style>\n",
       "<table border=\"1\" class=\"dataframe\">\n",
       "  <thead>\n",
       "    <tr style=\"text-align: right;\">\n",
       "      <th></th>\n",
       "      <th>ts</th>\n",
       "      <th>consumption</th>\n",
       "    </tr>\n",
       "  </thead>\n",
       "  <tbody>\n",
       "    <tr>\n",
       "      <th>396</th>\n",
       "      <td>2006-12-17 00:00:00</td>\n",
       "      <td>15.400000</td>\n",
       "    </tr>\n",
       "    <tr>\n",
       "      <th>397</th>\n",
       "      <td>2006-12-17 00:01:00</td>\n",
       "      <td>24.333333</td>\n",
       "    </tr>\n",
       "    <tr>\n",
       "      <th>398</th>\n",
       "      <td>2006-12-17 00:02:00</td>\n",
       "      <td>48.633333</td>\n",
       "    </tr>\n",
       "    <tr>\n",
       "      <th>399</th>\n",
       "      <td>2006-12-17 00:03:00</td>\n",
       "      <td>48.566667</td>\n",
       "    </tr>\n",
       "    <tr>\n",
       "      <th>400</th>\n",
       "      <td>2006-12-17 00:04:00</td>\n",
       "      <td>45.433333</td>\n",
       "    </tr>\n",
       "    <tr>\n",
       "      <th>...</th>\n",
       "      <td>...</td>\n",
       "      <td>...</td>\n",
       "    </tr>\n",
       "    <tr>\n",
       "      <th>1831</th>\n",
       "      <td>2006-12-17 23:55:00</td>\n",
       "      <td>3.600000</td>\n",
       "    </tr>\n",
       "    <tr>\n",
       "      <th>1832</th>\n",
       "      <td>2006-12-17 23:56:00</td>\n",
       "      <td>3.566667</td>\n",
       "    </tr>\n",
       "    <tr>\n",
       "      <th>1833</th>\n",
       "      <td>2006-12-17 23:57:00</td>\n",
       "      <td>3.566667</td>\n",
       "    </tr>\n",
       "    <tr>\n",
       "      <th>1834</th>\n",
       "      <td>2006-12-17 23:58:00</td>\n",
       "      <td>3.566667</td>\n",
       "    </tr>\n",
       "    <tr>\n",
       "      <th>1835</th>\n",
       "      <td>2006-12-17 23:59:00</td>\n",
       "      <td>3.600000</td>\n",
       "    </tr>\n",
       "  </tbody>\n",
       "</table>\n",
       "<p>1440 rows × 2 columns</p>\n",
       "</div>"
      ],
      "text/plain": [
       "                      ts  consumption\n",
       "396  2006-12-17 00:00:00    15.400000\n",
       "397  2006-12-17 00:01:00    24.333333\n",
       "398  2006-12-17 00:02:00    48.633333\n",
       "399  2006-12-17 00:03:00    48.566667\n",
       "400  2006-12-17 00:04:00    45.433333\n",
       "...                  ...          ...\n",
       "1831 2006-12-17 23:55:00     3.600000\n",
       "1832 2006-12-17 23:56:00     3.566667\n",
       "1833 2006-12-17 23:57:00     3.566667\n",
       "1834 2006-12-17 23:58:00     3.566667\n",
       "1835 2006-12-17 23:59:00     3.600000\n",
       "\n",
       "[1440 rows x 2 columns]"
      ]
     },
     "execution_count": 8,
     "metadata": {},
     "output_type": "execute_result"
    }
   ],
   "source": [
    "(\n",
    "    power\n",
    "    .loc[lambda df: (df['ts'] >= pd.Timestamp('2006-12-17')) &\n",
    "                    (df['ts'] < pd.Timestamp('2006-12-18'))]\n",
    ")"
   ]
  },
  {
   "cell_type": "markdown",
   "metadata": {},
   "source": [
    "However, for most time-series analysis functionality, we benefit from not only parsing the dates correctly, but also setting the dates as the index in the Pandas DataFrame. \n",
    "\n",
    "Let's illustrate the data without the datetime as index: "
   ]
  },
  {
   "cell_type": "code",
   "execution_count": 11,
   "metadata": {},
   "outputs": [
    {
     "data": {
      "text/html": [
       "<div>\n",
       "<style scoped>\n",
       "    .dataframe tbody tr th:only-of-type {\n",
       "        vertical-align: middle;\n",
       "    }\n",
       "\n",
       "    .dataframe tbody tr th {\n",
       "        vertical-align: top;\n",
       "    }\n",
       "\n",
       "    .dataframe thead th {\n",
       "        text-align: right;\n",
       "    }\n",
       "</style>\n",
       "<table border=\"1\" class=\"dataframe\">\n",
       "  <thead>\n",
       "    <tr style=\"text-align: right;\">\n",
       "      <th></th>\n",
       "      <th>consumption</th>\n",
       "    </tr>\n",
       "    <tr>\n",
       "      <th>ts</th>\n",
       "      <th></th>\n",
       "    </tr>\n",
       "  </thead>\n",
       "  <tbody>\n",
       "    <tr>\n",
       "      <th>2006-12-16 17:24:00</th>\n",
       "      <td>52.266667</td>\n",
       "    </tr>\n",
       "    <tr>\n",
       "      <th>2006-12-16 17:25:00</th>\n",
       "      <td>72.333333</td>\n",
       "    </tr>\n",
       "    <tr>\n",
       "      <th>2006-12-16 17:26:00</th>\n",
       "      <td>70.566667</td>\n",
       "    </tr>\n",
       "    <tr>\n",
       "      <th>2006-12-16 17:27:00</th>\n",
       "      <td>71.800000</td>\n",
       "    </tr>\n",
       "    <tr>\n",
       "      <th>2006-12-16 17:28:00</th>\n",
       "      <td>43.100000</td>\n",
       "    </tr>\n",
       "  </tbody>\n",
       "</table>\n",
       "</div>"
      ],
      "text/plain": [
       "                     consumption\n",
       "ts                              \n",
       "2006-12-16 17:24:00    52.266667\n",
       "2006-12-16 17:25:00    72.333333\n",
       "2006-12-16 17:26:00    70.566667\n",
       "2006-12-16 17:27:00    71.800000\n",
       "2006-12-16 17:28:00    43.100000"
      ]
     },
     "execution_count": 11,
     "metadata": {},
     "output_type": "execute_result"
    }
   ],
   "source": [
    "power = pd.read_csv('data/household_power_consumption.csv', \n",
    "                    parse_dates=['ts'], index_col='ts')\n",
    "power.head()"
   ]
  },
  {
   "cell_type": "markdown",
   "metadata": {},
   "source": [
    "Now it is much simpler to select the dates from a particular range."
   ]
  },
  {
   "cell_type": "code",
   "execution_count": 12,
   "metadata": {},
   "outputs": [
    {
     "data": {
      "text/html": [
       "<div>\n",
       "<style scoped>\n",
       "    .dataframe tbody tr th:only-of-type {\n",
       "        vertical-align: middle;\n",
       "    }\n",
       "\n",
       "    .dataframe tbody tr th {\n",
       "        vertical-align: top;\n",
       "    }\n",
       "\n",
       "    .dataframe thead th {\n",
       "        text-align: right;\n",
       "    }\n",
       "</style>\n",
       "<table border=\"1\" class=\"dataframe\">\n",
       "  <thead>\n",
       "    <tr style=\"text-align: right;\">\n",
       "      <th></th>\n",
       "      <th>consumption</th>\n",
       "    </tr>\n",
       "    <tr>\n",
       "      <th>ts</th>\n",
       "      <th></th>\n",
       "    </tr>\n",
       "  </thead>\n",
       "  <tbody>\n",
       "    <tr>\n",
       "      <th>2006-12-17 00:00:00</th>\n",
       "      <td>15.400000</td>\n",
       "    </tr>\n",
       "    <tr>\n",
       "      <th>2006-12-17 00:01:00</th>\n",
       "      <td>24.333333</td>\n",
       "    </tr>\n",
       "    <tr>\n",
       "      <th>2006-12-17 00:02:00</th>\n",
       "      <td>48.633333</td>\n",
       "    </tr>\n",
       "    <tr>\n",
       "      <th>2006-12-17 00:03:00</th>\n",
       "      <td>48.566667</td>\n",
       "    </tr>\n",
       "    <tr>\n",
       "      <th>2006-12-17 00:04:00</th>\n",
       "      <td>45.433333</td>\n",
       "    </tr>\n",
       "    <tr>\n",
       "      <th>...</th>\n",
       "      <td>...</td>\n",
       "    </tr>\n",
       "    <tr>\n",
       "      <th>2006-12-17 23:55:00</th>\n",
       "      <td>3.600000</td>\n",
       "    </tr>\n",
       "    <tr>\n",
       "      <th>2006-12-17 23:56:00</th>\n",
       "      <td>3.566667</td>\n",
       "    </tr>\n",
       "    <tr>\n",
       "      <th>2006-12-17 23:57:00</th>\n",
       "      <td>3.566667</td>\n",
       "    </tr>\n",
       "    <tr>\n",
       "      <th>2006-12-17 23:58:00</th>\n",
       "      <td>3.566667</td>\n",
       "    </tr>\n",
       "    <tr>\n",
       "      <th>2006-12-17 23:59:00</th>\n",
       "      <td>3.600000</td>\n",
       "    </tr>\n",
       "  </tbody>\n",
       "</table>\n",
       "<p>1440 rows × 1 columns</p>\n",
       "</div>"
      ],
      "text/plain": [
       "                     consumption\n",
       "ts                              \n",
       "2006-12-17 00:00:00    15.400000\n",
       "2006-12-17 00:01:00    24.333333\n",
       "2006-12-17 00:02:00    48.633333\n",
       "2006-12-17 00:03:00    48.566667\n",
       "2006-12-17 00:04:00    45.433333\n",
       "...                          ...\n",
       "2006-12-17 23:55:00     3.600000\n",
       "2006-12-17 23:56:00     3.566667\n",
       "2006-12-17 23:57:00     3.566667\n",
       "2006-12-17 23:58:00     3.566667\n",
       "2006-12-17 23:59:00     3.600000\n",
       "\n",
       "[1440 rows x 1 columns]"
      ]
     },
     "execution_count": 12,
     "metadata": {},
     "output_type": "execute_result"
    }
   ],
   "source": [
    "power.loc['2006-12-17']"
   ]
  },
  {
   "cell_type": "code",
   "execution_count": 13,
   "metadata": {},
   "outputs": [
    {
     "data": {
      "text/html": [
       "<div>\n",
       "<style scoped>\n",
       "    .dataframe tbody tr th:only-of-type {\n",
       "        vertical-align: middle;\n",
       "    }\n",
       "\n",
       "    .dataframe tbody tr th {\n",
       "        vertical-align: top;\n",
       "    }\n",
       "\n",
       "    .dataframe thead th {\n",
       "        text-align: right;\n",
       "    }\n",
       "</style>\n",
       "<table border=\"1\" class=\"dataframe\">\n",
       "  <thead>\n",
       "    <tr style=\"text-align: right;\">\n",
       "      <th></th>\n",
       "      <th>consumption</th>\n",
       "    </tr>\n",
       "    <tr>\n",
       "      <th>ts</th>\n",
       "      <th></th>\n",
       "    </tr>\n",
       "  </thead>\n",
       "  <tbody>\n",
       "    <tr>\n",
       "      <th>2006-12-17 00:00:00</th>\n",
       "      <td>15.400000</td>\n",
       "    </tr>\n",
       "    <tr>\n",
       "      <th>2006-12-17 00:01:00</th>\n",
       "      <td>24.333333</td>\n",
       "    </tr>\n",
       "    <tr>\n",
       "      <th>2006-12-17 00:02:00</th>\n",
       "      <td>48.633333</td>\n",
       "    </tr>\n",
       "    <tr>\n",
       "      <th>2006-12-17 00:03:00</th>\n",
       "      <td>48.566667</td>\n",
       "    </tr>\n",
       "    <tr>\n",
       "      <th>2006-12-17 00:04:00</th>\n",
       "      <td>45.433333</td>\n",
       "    </tr>\n",
       "    <tr>\n",
       "      <th>...</th>\n",
       "      <td>...</td>\n",
       "    </tr>\n",
       "    <tr>\n",
       "      <th>2007-01-01 23:55:00</th>\n",
       "      <td>8.933333</td>\n",
       "    </tr>\n",
       "    <tr>\n",
       "      <th>2007-01-01 23:56:00</th>\n",
       "      <td>8.300000</td>\n",
       "    </tr>\n",
       "    <tr>\n",
       "      <th>2007-01-01 23:57:00</th>\n",
       "      <td>7.733333</td>\n",
       "    </tr>\n",
       "    <tr>\n",
       "      <th>2007-01-01 23:58:00</th>\n",
       "      <td>7.700000</td>\n",
       "    </tr>\n",
       "    <tr>\n",
       "      <th>2007-01-01 23:59:00</th>\n",
       "      <td>7.666667</td>\n",
       "    </tr>\n",
       "  </tbody>\n",
       "</table>\n",
       "<p>23040 rows × 1 columns</p>\n",
       "</div>"
      ],
      "text/plain": [
       "                     consumption\n",
       "ts                              \n",
       "2006-12-17 00:00:00    15.400000\n",
       "2006-12-17 00:01:00    24.333333\n",
       "2006-12-17 00:02:00    48.633333\n",
       "2006-12-17 00:03:00    48.566667\n",
       "2006-12-17 00:04:00    45.433333\n",
       "...                          ...\n",
       "2007-01-01 23:55:00     8.933333\n",
       "2007-01-01 23:56:00     8.300000\n",
       "2007-01-01 23:57:00     7.733333\n",
       "2007-01-01 23:58:00     7.700000\n",
       "2007-01-01 23:59:00     7.666667\n",
       "\n",
       "[23040 rows x 1 columns]"
      ]
     },
     "execution_count": 13,
     "metadata": {},
     "output_type": "execute_result"
    }
   ],
   "source": [
    "power.loc['2006-12-17':'2007-01-01']"
   ]
  },
  {
   "cell_type": "markdown",
   "metadata": {},
   "source": [
    "We can even filter using different date formats!"
   ]
  },
  {
   "cell_type": "code",
   "execution_count": 14,
   "metadata": {},
   "outputs": [
    {
     "data": {
      "text/html": [
       "<div>\n",
       "<style scoped>\n",
       "    .dataframe tbody tr th:only-of-type {\n",
       "        vertical-align: middle;\n",
       "    }\n",
       "\n",
       "    .dataframe tbody tr th {\n",
       "        vertical-align: top;\n",
       "    }\n",
       "\n",
       "    .dataframe thead th {\n",
       "        text-align: right;\n",
       "    }\n",
       "</style>\n",
       "<table border=\"1\" class=\"dataframe\">\n",
       "  <thead>\n",
       "    <tr style=\"text-align: right;\">\n",
       "      <th></th>\n",
       "      <th>consumption</th>\n",
       "    </tr>\n",
       "    <tr>\n",
       "      <th>ts</th>\n",
       "      <th></th>\n",
       "    </tr>\n",
       "  </thead>\n",
       "  <tbody>\n",
       "    <tr>\n",
       "      <th>2006-12-17 00:00:00</th>\n",
       "      <td>15.400000</td>\n",
       "    </tr>\n",
       "    <tr>\n",
       "      <th>2006-12-17 00:01:00</th>\n",
       "      <td>24.333333</td>\n",
       "    </tr>\n",
       "    <tr>\n",
       "      <th>2006-12-17 00:02:00</th>\n",
       "      <td>48.633333</td>\n",
       "    </tr>\n",
       "    <tr>\n",
       "      <th>2006-12-17 00:03:00</th>\n",
       "      <td>48.566667</td>\n",
       "    </tr>\n",
       "    <tr>\n",
       "      <th>2006-12-17 00:04:00</th>\n",
       "      <td>45.433333</td>\n",
       "    </tr>\n",
       "    <tr>\n",
       "      <th>...</th>\n",
       "      <td>...</td>\n",
       "    </tr>\n",
       "    <tr>\n",
       "      <th>2006-12-17 23:55:00</th>\n",
       "      <td>3.600000</td>\n",
       "    </tr>\n",
       "    <tr>\n",
       "      <th>2006-12-17 23:56:00</th>\n",
       "      <td>3.566667</td>\n",
       "    </tr>\n",
       "    <tr>\n",
       "      <th>2006-12-17 23:57:00</th>\n",
       "      <td>3.566667</td>\n",
       "    </tr>\n",
       "    <tr>\n",
       "      <th>2006-12-17 23:58:00</th>\n",
       "      <td>3.566667</td>\n",
       "    </tr>\n",
       "    <tr>\n",
       "      <th>2006-12-17 23:59:00</th>\n",
       "      <td>3.600000</td>\n",
       "    </tr>\n",
       "  </tbody>\n",
       "</table>\n",
       "<p>1440 rows × 1 columns</p>\n",
       "</div>"
      ],
      "text/plain": [
       "                     consumption\n",
       "ts                              \n",
       "2006-12-17 00:00:00    15.400000\n",
       "2006-12-17 00:01:00    24.333333\n",
       "2006-12-17 00:02:00    48.633333\n",
       "2006-12-17 00:03:00    48.566667\n",
       "2006-12-17 00:04:00    45.433333\n",
       "...                          ...\n",
       "2006-12-17 23:55:00     3.600000\n",
       "2006-12-17 23:56:00     3.566667\n",
       "2006-12-17 23:57:00     3.566667\n",
       "2006-12-17 23:58:00     3.566667\n",
       "2006-12-17 23:59:00     3.600000\n",
       "\n",
       "[1440 rows x 1 columns]"
      ]
     },
     "execution_count": 14,
     "metadata": {},
     "output_type": "execute_result"
    }
   ],
   "source": [
    "power.loc['17th December 2006']"
   ]
  },
  {
   "cell_type": "markdown",
   "metadata": {},
   "source": [
    "It also provides us with an advantage with plotting:"
   ]
  },
  {
   "cell_type": "code",
   "execution_count": 15,
   "metadata": {
    "scrolled": true
   },
   "outputs": [
    {
     "data": {
      "image/png": "[encoded data removed]",
      "text/plain": [
       "<Figure size 1600x400 with 1 Axes>"
      ]
     },
     "metadata": {},
     "output_type": "display_data"
    }
   ],
   "source": [
    "power.plot(figsize=(16,4));"
   ]
  },
  {
   "cell_type": "markdown",
   "metadata": {},
   "source": [
    "Compare this to our *unformatted* data, which does not use the time data as the index:"
   ]
  },
  {
   "cell_type": "code",
   "execution_count": 16,
   "metadata": {
    "scrolled": true
   },
   "outputs": [
    {
     "data": {
      "text/plain": [
       "<AxesSubplot:xlabel='ts'>"
      ]
     },
     "execution_count": 16,
     "metadata": {},
     "output_type": "execute_result"
    },
    {
     "data": {
      "image/png": "[encoded data removed]",
      "text/plain": [
       "<Figure size 1600x400 with 1 Axes>"
      ]
     },
     "metadata": {},
     "output_type": "display_data"
    }
   ],
   "source": [
    "power_unformatted.plot(x = 'ts', y = 'consumption', figsize=(16,4))"
   ]
  },
  {
   "cell_type": "markdown",
   "metadata": {},
   "source": [
    "Note how the x-axis is no longer nicely formatted? Pandas reads them as strings and will select x-ticks based on even intervals.\n",
    "\n",
    "We may also want to do some histograms to see how our data is distributed. \n",
    "\n",
    "Let's look at the 2006 and 2007 - do you notice a difference?"
   ]
  },
  {
   "cell_type": "code",
   "execution_count": 20,
   "metadata": {},
   "outputs": [
    {
     "data": {
      "text/html": [
       "<div>\n",
       "<style scoped>\n",
       "    .dataframe tbody tr th:only-of-type {\n",
       "        vertical-align: middle;\n",
       "    }\n",
       "\n",
       "    .dataframe tbody tr th {\n",
       "        vertical-align: top;\n",
       "    }\n",
       "\n",
       "    .dataframe thead th {\n",
       "        text-align: right;\n",
       "    }\n",
       "</style>\n",
       "<table border=\"1\" class=\"dataframe\">\n",
       "  <thead>\n",
       "    <tr style=\"text-align: right;\">\n",
       "      <th></th>\n",
       "      <th>consumption</th>\n",
       "    </tr>\n",
       "    <tr>\n",
       "      <th>ts</th>\n",
       "      <th></th>\n",
       "    </tr>\n",
       "  </thead>\n",
       "  <tbody>\n",
       "    <tr>\n",
       "      <th>2007-01-01 00:00:00</th>\n",
       "      <td>43.000000</td>\n",
       "    </tr>\n",
       "    <tr>\n",
       "      <th>2007-01-01 00:01:00</th>\n",
       "      <td>42.533333</td>\n",
       "    </tr>\n",
       "    <tr>\n",
       "      <th>2007-01-01 00:02:00</th>\n",
       "      <td>42.500000</td>\n",
       "    </tr>\n",
       "    <tr>\n",
       "      <th>2007-01-01 00:03:00</th>\n",
       "      <td>42.500000</td>\n",
       "    </tr>\n",
       "    <tr>\n",
       "      <th>2007-01-01 00:04:00</th>\n",
       "      <td>42.566667</td>\n",
       "    </tr>\n",
       "    <tr>\n",
       "      <th>...</th>\n",
       "      <td>...</td>\n",
       "    </tr>\n",
       "    <tr>\n",
       "      <th>2007-12-31 23:55:00</th>\n",
       "      <td>11.100000</td>\n",
       "    </tr>\n",
       "    <tr>\n",
       "      <th>2007-12-31 23:56:00</th>\n",
       "      <td>10.866667</td>\n",
       "    </tr>\n",
       "    <tr>\n",
       "      <th>2007-12-31 23:57:00</th>\n",
       "      <td>10.866667</td>\n",
       "    </tr>\n",
       "    <tr>\n",
       "      <th>2007-12-31 23:58:00</th>\n",
       "      <td>10.066667</td>\n",
       "    </tr>\n",
       "    <tr>\n",
       "      <th>2007-12-31 23:59:00</th>\n",
       "      <td>9.133333</td>\n",
       "    </tr>\n",
       "  </tbody>\n",
       "</table>\n",
       "<p>525600 rows × 1 columns</p>\n",
       "</div>"
      ],
      "text/plain": [
       "                     consumption\n",
       "ts                              \n",
       "2007-01-01 00:00:00    43.000000\n",
       "2007-01-01 00:01:00    42.533333\n",
       "2007-01-01 00:02:00    42.500000\n",
       "2007-01-01 00:03:00    42.500000\n",
       "2007-01-01 00:04:00    42.566667\n",
       "...                          ...\n",
       "2007-12-31 23:55:00    11.100000\n",
       "2007-12-31 23:56:00    10.866667\n",
       "2007-12-31 23:57:00    10.866667\n",
       "2007-12-31 23:58:00    10.066667\n",
       "2007-12-31 23:59:00     9.133333\n",
       "\n",
       "[525600 rows x 1 columns]"
      ]
     },
     "execution_count": 20,
     "metadata": {},
     "output_type": "execute_result"
    }
   ],
   "source": [
    "power.loc['2007']"
   ]
  },
  {
   "cell_type": "code",
   "execution_count": null,
   "metadata": {},
   "outputs": [],
   "source": []
  },
  {
   "cell_type": "code",
   "execution_count": 17,
   "metadata": {},
   "outputs": [
    {
     "data": {
      "text/plain": [
       "<AxesSubplot:ylabel='Frequency'>"
      ]
     },
     "execution_count": 17,
     "metadata": {},
     "output_type": "execute_result"
    },
    {
     "data": {
      "image/png": "[encoded data removed]",
      "text/plain": [
       "<Figure size 640x480 with 1 Axes>"
      ]
     },
     "metadata": {},
     "output_type": "display_data"
    }
   ],
   "source": [
    "power.loc['2006'].plot(kind='hist')"
   ]
  },
  {
   "cell_type": "code",
   "execution_count": 18,
   "metadata": {},
   "outputs": [
    {
     "data": {
      "text/plain": [
       "<AxesSubplot:ylabel='Frequency'>"
      ]
     },
     "execution_count": 18,
     "metadata": {},
     "output_type": "execute_result"
    },
    {
     "data": {
      "image/png": "[encoded data removed]",
      "text/plain": [
       "<Figure size 640x480 with 1 Axes>"
      ]
     },
     "metadata": {},
     "output_type": "display_data"
    }
   ],
   "source": [
    "power.loc['2007'].plot(kind='hist')"
   ]
  },
  {
   "cell_type": "markdown",
   "metadata": {},
   "source": [
    "<a id='agg1'></a>\n",
    "\n",
    "## Aggregations: `resample()`\n",
    "\n",
    "Another advantage of the datetime-index approach is that it provides us with some functionality for easy time-based aggregations. One such aggregation is `resample`. \n",
    "\n",
    "For example, we can easily calculate the _mean_ per _year_ by running:"
   ]
  },
  {
   "cell_type": "code",
   "execution_count": 21,
   "metadata": {},
   "outputs": [
    {
     "data": {
      "text/html": [
       "<div>\n",
       "<style scoped>\n",
       "    .dataframe tbody tr th:only-of-type {\n",
       "        vertical-align: middle;\n",
       "    }\n",
       "\n",
       "    .dataframe tbody tr th {\n",
       "        vertical-align: top;\n",
       "    }\n",
       "\n",
       "    .dataframe thead th {\n",
       "        text-align: right;\n",
       "    }\n",
       "</style>\n",
       "<table border=\"1\" class=\"dataframe\">\n",
       "  <thead>\n",
       "    <tr style=\"text-align: right;\">\n",
       "      <th></th>\n",
       "      <th>consumption</th>\n",
       "    </tr>\n",
       "    <tr>\n",
       "      <th>ts</th>\n",
       "      <th></th>\n",
       "    </tr>\n",
       "  </thead>\n",
       "  <tbody>\n",
       "    <tr>\n",
       "      <th>2006-12-31</th>\n",
       "      <td>20.815071</td>\n",
       "    </tr>\n",
       "    <tr>\n",
       "      <th>2007-12-31</th>\n",
       "      <td>9.952777</td>\n",
       "    </tr>\n",
       "    <tr>\n",
       "      <th>2008-12-31</th>\n",
       "      <td>9.468517</td>\n",
       "    </tr>\n",
       "    <tr>\n",
       "      <th>2009-12-31</th>\n",
       "      <td>8.881881</td>\n",
       "    </tr>\n",
       "    <tr>\n",
       "      <th>2010-12-31</th>\n",
       "      <td>8.350096</td>\n",
       "    </tr>\n",
       "  </tbody>\n",
       "</table>\n",
       "</div>"
      ],
      "text/plain": [
       "            consumption\n",
       "ts                     \n",
       "2006-12-31    20.815071\n",
       "2007-12-31     9.952777\n",
       "2008-12-31     9.468517\n",
       "2009-12-31     8.881881\n",
       "2010-12-31     8.350096"
      ]
     },
     "execution_count": 21,
     "metadata": {},
     "output_type": "execute_result"
    }
   ],
   "source": [
    "power.resample('Y').mean()"
   ]
  },
  {
   "cell_type": "markdown",
   "metadata": {},
   "source": [
    "You can also run the same aggregation per month `M`, week `W`, day `D` or quarter `Q`. Custom aggregation periods are also possible, for example per 4 weeks `4W` or per 3 months `3M`. See [here] for a more comprehensive list of offsets, that can be as specific as _'Business Month Begin'_.\n",
    "\n",
    "[here]: https://pandas.pydata.org/pandas-docs/stable/user_guide/timeseries.html#dateoffset-objects\n",
    "\n",
    "If the index is a timestamp that also includes times, then you can also aggregate per hour. The script below demonstrates this by calculating the mean per 3 hours."
   ]
  },
  {
   "cell_type": "code",
   "execution_count": 22,
   "metadata": {
    "scrolled": true
   },
   "outputs": [
    {
     "data": {
      "text/html": [
       "<div>\n",
       "<style scoped>\n",
       "    .dataframe tbody tr th:only-of-type {\n",
       "        vertical-align: middle;\n",
       "    }\n",
       "\n",
       "    .dataframe tbody tr th {\n",
       "        vertical-align: top;\n",
       "    }\n",
       "\n",
       "    .dataframe thead th {\n",
       "        text-align: right;\n",
       "    }\n",
       "</style>\n",
       "<table border=\"1\" class=\"dataframe\">\n",
       "  <thead>\n",
       "    <tr style=\"text-align: right;\">\n",
       "      <th></th>\n",
       "      <th>consumption</th>\n",
       "    </tr>\n",
       "    <tr>\n",
       "      <th>ts</th>\n",
       "      <th></th>\n",
       "    </tr>\n",
       "  </thead>\n",
       "  <tbody>\n",
       "    <tr>\n",
       "      <th>2006-12-16 15:00:00</th>\n",
       "      <td>52.992593</td>\n",
       "    </tr>\n",
       "    <tr>\n",
       "      <th>2006-12-16 18:00:00</th>\n",
       "      <td>37.733333</td>\n",
       "    </tr>\n",
       "    <tr>\n",
       "      <th>2006-12-16 21:00:00</th>\n",
       "      <td>33.228889</td>\n",
       "    </tr>\n",
       "    <tr>\n",
       "      <th>2006-12-17 00:00:00</th>\n",
       "      <td>29.128519</td>\n",
       "    </tr>\n",
       "    <tr>\n",
       "      <th>2006-12-17 03:00:00</th>\n",
       "      <td>27.626111</td>\n",
       "    </tr>\n",
       "  </tbody>\n",
       "</table>\n",
       "</div>"
      ],
      "text/plain": [
       "                     consumption\n",
       "ts                              \n",
       "2006-12-16 15:00:00    52.992593\n",
       "2006-12-16 18:00:00    37.733333\n",
       "2006-12-16 21:00:00    33.228889\n",
       "2006-12-17 00:00:00    29.128519\n",
       "2006-12-17 03:00:00    27.626111"
      ]
     },
     "execution_count": 22,
     "metadata": {},
     "output_type": "execute_result"
    }
   ],
   "source": [
    "power.resample('3H').mean().head()"
   ]
  },
  {
   "cell_type": "code",
   "execution_count": 23,
   "metadata": {},
   "outputs": [
    {
     "data": {
      "text/html": [
       "<div>\n",
       "<style scoped>\n",
       "    .dataframe tbody tr th:only-of-type {\n",
       "        vertical-align: middle;\n",
       "    }\n",
       "\n",
       "    .dataframe tbody tr th {\n",
       "        vertical-align: top;\n",
       "    }\n",
       "\n",
       "    .dataframe thead th {\n",
       "        text-align: right;\n",
       "    }\n",
       "</style>\n",
       "<table border=\"1\" class=\"dataframe\">\n",
       "  <thead>\n",
       "    <tr style=\"text-align: right;\">\n",
       "      <th></th>\n",
       "      <th>consumption</th>\n",
       "    </tr>\n",
       "    <tr>\n",
       "      <th>ts</th>\n",
       "      <th></th>\n",
       "    </tr>\n",
       "  </thead>\n",
       "  <tbody>\n",
       "    <tr>\n",
       "      <th>2006-12-16 15:00:00</th>\n",
       "      <td>1907.733333</td>\n",
       "    </tr>\n",
       "    <tr>\n",
       "      <th>2006-12-16 18:00:00</th>\n",
       "      <td>6792.000000</td>\n",
       "    </tr>\n",
       "    <tr>\n",
       "      <th>2006-12-16 21:00:00</th>\n",
       "      <td>5981.200000</td>\n",
       "    </tr>\n",
       "    <tr>\n",
       "      <th>2006-12-17 00:00:00</th>\n",
       "      <td>5243.133333</td>\n",
       "    </tr>\n",
       "    <tr>\n",
       "      <th>2006-12-17 03:00:00</th>\n",
       "      <td>4972.700000</td>\n",
       "    </tr>\n",
       "  </tbody>\n",
       "</table>\n",
       "</div>"
      ],
      "text/plain": [
       "                     consumption\n",
       "ts                              \n",
       "2006-12-16 15:00:00  1907.733333\n",
       "2006-12-16 18:00:00  6792.000000\n",
       "2006-12-16 21:00:00  5981.200000\n",
       "2006-12-17 00:00:00  5243.133333\n",
       "2006-12-17 03:00:00  4972.700000"
      ]
     },
     "execution_count": 23,
     "metadata": {},
     "output_type": "execute_result"
    }
   ],
   "source": [
    "power.resample('3H').sum().head()"
   ]
  },
  {
   "cell_type": "markdown",
   "metadata": {},
   "source": [
    "We can also use general `.agg()` methods here to apply multiple aggregators."
   ]
  },
  {
   "cell_type": "code",
   "execution_count": null,
   "metadata": {},
   "outputs": [],
   "source": [
    "power.resample('M').agg([('monthly_mean','mean'),('monthly_var','var'),('monthly_spread', lambda month_df: month_df.max() - month_df.min())])\n",
    "    #.droplevel(0, axis=1)\n",
    "    .head()"
   ]
  },
  {
   "cell_type": "code",
   "execution_count": 24,
   "metadata": {},
   "outputs": [
    {
     "data": {
      "text/html": [
       "<div>\n",
       "<style scoped>\n",
       "    .dataframe tbody tr th:only-of-type {\n",
       "        vertical-align: middle;\n",
       "    }\n",
       "\n",
       "    .dataframe tbody tr th {\n",
       "        vertical-align: top;\n",
       "    }\n",
       "\n",
       "    .dataframe thead tr th {\n",
       "        text-align: left;\n",
       "    }\n",
       "\n",
       "    .dataframe thead tr:last-of-type th {\n",
       "        text-align: right;\n",
       "    }\n",
       "</style>\n",
       "<table border=\"1\" class=\"dataframe\">\n",
       "  <thead>\n",
       "    <tr>\n",
       "      <th></th>\n",
       "      <th colspan=\"3\" halign=\"left\">consumption</th>\n",
       "    </tr>\n",
       "    <tr>\n",
       "      <th></th>\n",
       "      <th>monthly_mean</th>\n",
       "      <th>monthly_var</th>\n",
       "      <th>monthly_spread</th>\n",
       "    </tr>\n",
       "    <tr>\n",
       "      <th>ts</th>\n",
       "      <th></th>\n",
       "      <th></th>\n",
       "      <th></th>\n",
       "    </tr>\n",
       "  </thead>\n",
       "  <tbody>\n",
       "    <tr>\n",
       "      <th>2006-12-31</th>\n",
       "      <td>20.815071</td>\n",
       "      <td>295.982325</td>\n",
       "      <td>123.800000</td>\n",
       "    </tr>\n",
       "    <tr>\n",
       "      <th>2007-01-31</th>\n",
       "      <td>15.343714</td>\n",
       "      <td>196.844106</td>\n",
       "      <td>110.133333</td>\n",
       "    </tr>\n",
       "    <tr>\n",
       "      <th>2007-02-28</th>\n",
       "      <td>13.865257</td>\n",
       "      <td>200.582017</td>\n",
       "      <td>120.800000</td>\n",
       "    </tr>\n",
       "    <tr>\n",
       "      <th>2007-03-31</th>\n",
       "      <td>11.764254</td>\n",
       "      <td>146.326263</td>\n",
       "      <td>116.733333</td>\n",
       "    </tr>\n",
       "    <tr>\n",
       "      <th>2007-04-30</th>\n",
       "      <td>8.013774</td>\n",
       "      <td>77.076019</td>\n",
       "      <td>103.066667</td>\n",
       "    </tr>\n",
       "  </tbody>\n",
       "</table>\n",
       "</div>"
      ],
      "text/plain": [
       "            consumption                           \n",
       "           monthly_mean monthly_var monthly_spread\n",
       "ts                                                \n",
       "2006-12-31    20.815071  295.982325     123.800000\n",
       "2007-01-31    15.343714  196.844106     110.133333\n",
       "2007-02-28    13.865257  200.582017     120.800000\n",
       "2007-03-31    11.764254  146.326263     116.733333\n",
       "2007-04-30     8.013774   77.076019     103.066667"
      ]
     },
     "execution_count": 24,
     "metadata": {},
     "output_type": "execute_result"
    }
   ],
   "source": [
    "(\n",
    "    power\n",
    "    .resample('M')\n",
    "    .agg([\n",
    "        ('monthly_mean','mean'),\n",
    "        ('monthly_var','var'),\n",
    "        ('monthly_spread', lambda month_df: month_df.max() - month_df.min())\n",
    "    ])\n",
    "    #.droplevel(0, axis=1)\n",
    "    .head()\n",
    "\n",
    ")"
   ]
  },
  {
   "cell_type": "markdown",
   "metadata": {},
   "source": [
    "<a id='agg2'></a>\n",
    "\n",
    "## Aggregations: `transform()`\n",
    "\n",
    "Notice how aggregating results in a smaller DataFrame than before."
   ]
  },
  {
   "cell_type": "code",
   "execution_count": 25,
   "metadata": {},
   "outputs": [
    {
     "name": "stdout",
     "output_type": "stream",
     "text": [
      "(2075259, 1)\n"
     ]
    }
   ],
   "source": [
    "print(power.shape)"
   ]
  },
  {
   "cell_type": "code",
   "execution_count": 26,
   "metadata": {},
   "outputs": [
    {
     "name": "stdout",
     "output_type": "stream",
     "text": [
      "(5, 1)\n"
     ]
    }
   ],
   "source": [
    "print((\n",
    "    power\n",
    "    .resample('Y')\n",
    "    .agg('mean')   \n",
    ").shape)"
   ]
  },
  {
   "cell_type": "code",
   "execution_count": 27,
   "metadata": {},
   "outputs": [
    {
     "name": "stdout",
     "output_type": "stream",
     "text": [
      "(48, 1)\n"
     ]
    }
   ],
   "source": [
    "print((\n",
    "    power\n",
    "    .resample('M')\n",
    "    .agg('mean')   \n",
    ").shape)"
   ]
  },
  {
   "cell_type": "markdown",
   "metadata": {},
   "source": [
    "Using `transform()` allows to keep the original range of indices (in seconds) after aggregation. Resulting aggregated statistics then are the same for each aggregation period (each hour in our case):"
   ]
  },
  {
   "cell_type": "code",
   "execution_count": 28,
   "metadata": {},
   "outputs": [
    {
     "data": {
      "text/html": [
       "<div>\n",
       "<style scoped>\n",
       "    .dataframe tbody tr th:only-of-type {\n",
       "        vertical-align: middle;\n",
       "    }\n",
       "\n",
       "    .dataframe tbody tr th {\n",
       "        vertical-align: top;\n",
       "    }\n",
       "\n",
       "    .dataframe thead th {\n",
       "        text-align: right;\n",
       "    }\n",
       "</style>\n",
       "<table border=\"1\" class=\"dataframe\">\n",
       "  <thead>\n",
       "    <tr style=\"text-align: right;\">\n",
       "      <th></th>\n",
       "      <th>consumption</th>\n",
       "    </tr>\n",
       "    <tr>\n",
       "      <th>ts</th>\n",
       "      <th></th>\n",
       "    </tr>\n",
       "  </thead>\n",
       "  <tbody>\n",
       "    <tr>\n",
       "      <th>2006-12-16 17:24:00</th>\n",
       "      <td>20.815071</td>\n",
       "    </tr>\n",
       "    <tr>\n",
       "      <th>2006-12-16 17:25:00</th>\n",
       "      <td>20.815071</td>\n",
       "    </tr>\n",
       "    <tr>\n",
       "      <th>2006-12-16 17:26:00</th>\n",
       "      <td>20.815071</td>\n",
       "    </tr>\n",
       "    <tr>\n",
       "      <th>2006-12-16 17:27:00</th>\n",
       "      <td>20.815071</td>\n",
       "    </tr>\n",
       "    <tr>\n",
       "      <th>2006-12-16 17:28:00</th>\n",
       "      <td>20.815071</td>\n",
       "    </tr>\n",
       "    <tr>\n",
       "      <th>...</th>\n",
       "      <td>...</td>\n",
       "    </tr>\n",
       "    <tr>\n",
       "      <th>2010-11-26 20:58:00</th>\n",
       "      <td>10.942476</td>\n",
       "    </tr>\n",
       "    <tr>\n",
       "      <th>2010-11-26 20:59:00</th>\n",
       "      <td>10.942476</td>\n",
       "    </tr>\n",
       "    <tr>\n",
       "      <th>2010-11-26 21:00:00</th>\n",
       "      <td>10.942476</td>\n",
       "    </tr>\n",
       "    <tr>\n",
       "      <th>2010-11-26 21:01:00</th>\n",
       "      <td>10.942476</td>\n",
       "    </tr>\n",
       "    <tr>\n",
       "      <th>2010-11-26 21:02:00</th>\n",
       "      <td>10.942476</td>\n",
       "    </tr>\n",
       "  </tbody>\n",
       "</table>\n",
       "<p>2075259 rows × 1 columns</p>\n",
       "</div>"
      ],
      "text/plain": [
       "                     consumption\n",
       "ts                              \n",
       "2006-12-16 17:24:00    20.815071\n",
       "2006-12-16 17:25:00    20.815071\n",
       "2006-12-16 17:26:00    20.815071\n",
       "2006-12-16 17:27:00    20.815071\n",
       "2006-12-16 17:28:00    20.815071\n",
       "...                          ...\n",
       "2010-11-26 20:58:00    10.942476\n",
       "2010-11-26 20:59:00    10.942476\n",
       "2010-11-26 21:00:00    10.942476\n",
       "2010-11-26 21:01:00    10.942476\n",
       "2010-11-26 21:02:00    10.942476\n",
       "\n",
       "[2075259 rows x 1 columns]"
      ]
     },
     "execution_count": 28,
     "metadata": {},
     "output_type": "execute_result"
    }
   ],
   "source": [
    "(\n",
    "    power\n",
    "    .resample('M')\n",
    "    .transform('mean')   \n",
    ")"
   ]
  },
  {
   "cell_type": "code",
   "execution_count": 29,
   "metadata": {},
   "outputs": [
    {
     "name": "stdout",
     "output_type": "stream",
     "text": [
      "(2075259, 1)\n"
     ]
    }
   ],
   "source": [
    "print((\n",
    "    power\n",
    "    .resample('M')\n",
    "    .transform('mean')   \n",
    ").shape)"
   ]
  },
  {
   "cell_type": "markdown",
   "metadata": {},
   "source": [
    "Using this with the `assign` method allows us to add new columns to the original dataset."
   ]
  },
  {
   "cell_type": "code",
   "execution_count": 30,
   "metadata": {},
   "outputs": [
    {
     "data": {
      "text/html": [
       "<div>\n",
       "<style scoped>\n",
       "    .dataframe tbody tr th:only-of-type {\n",
       "        vertical-align: middle;\n",
       "    }\n",
       "\n",
       "    .dataframe tbody tr th {\n",
       "        vertical-align: top;\n",
       "    }\n",
       "\n",
       "    .dataframe thead th {\n",
       "        text-align: right;\n",
       "    }\n",
       "</style>\n",
       "<table border=\"1\" class=\"dataframe\">\n",
       "  <thead>\n",
       "    <tr style=\"text-align: right;\">\n",
       "      <th></th>\n",
       "      <th>consumption</th>\n",
       "      <th>monthly_mean</th>\n",
       "      <th>monthly_var</th>\n",
       "      <th>monthly_spread</th>\n",
       "    </tr>\n",
       "    <tr>\n",
       "      <th>ts</th>\n",
       "      <th></th>\n",
       "      <th></th>\n",
       "      <th></th>\n",
       "      <th></th>\n",
       "    </tr>\n",
       "  </thead>\n",
       "  <tbody>\n",
       "    <tr>\n",
       "      <th>2006-12-16 17:24:00</th>\n",
       "      <td>52.266667</td>\n",
       "      <td>20.815071</td>\n",
       "      <td>295.982325</td>\n",
       "      <td>123.800000</td>\n",
       "    </tr>\n",
       "    <tr>\n",
       "      <th>2006-12-16 17:25:00</th>\n",
       "      <td>72.333333</td>\n",
       "      <td>20.815071</td>\n",
       "      <td>295.982325</td>\n",
       "      <td>123.800000</td>\n",
       "    </tr>\n",
       "    <tr>\n",
       "      <th>2006-12-16 17:26:00</th>\n",
       "      <td>70.566667</td>\n",
       "      <td>20.815071</td>\n",
       "      <td>295.982325</td>\n",
       "      <td>123.800000</td>\n",
       "    </tr>\n",
       "    <tr>\n",
       "      <th>2006-12-16 17:27:00</th>\n",
       "      <td>71.800000</td>\n",
       "      <td>20.815071</td>\n",
       "      <td>295.982325</td>\n",
       "      <td>123.800000</td>\n",
       "    </tr>\n",
       "    <tr>\n",
       "      <th>2006-12-16 17:28:00</th>\n",
       "      <td>43.100000</td>\n",
       "      <td>20.815071</td>\n",
       "      <td>295.982325</td>\n",
       "      <td>123.800000</td>\n",
       "    </tr>\n",
       "    <tr>\n",
       "      <th>...</th>\n",
       "      <td>...</td>\n",
       "      <td>...</td>\n",
       "      <td>...</td>\n",
       "      <td>...</td>\n",
       "    </tr>\n",
       "    <tr>\n",
       "      <th>2010-11-26 20:58:00</th>\n",
       "      <td>15.766667</td>\n",
       "      <td>10.942476</td>\n",
       "      <td>78.889362</td>\n",
       "      <td>75.366667</td>\n",
       "    </tr>\n",
       "    <tr>\n",
       "      <th>2010-11-26 20:59:00</th>\n",
       "      <td>15.733333</td>\n",
       "      <td>10.942476</td>\n",
       "      <td>78.889362</td>\n",
       "      <td>75.366667</td>\n",
       "    </tr>\n",
       "    <tr>\n",
       "      <th>2010-11-26 21:00:00</th>\n",
       "      <td>15.633333</td>\n",
       "      <td>10.942476</td>\n",
       "      <td>78.889362</td>\n",
       "      <td>75.366667</td>\n",
       "    </tr>\n",
       "    <tr>\n",
       "      <th>2010-11-26 21:01:00</th>\n",
       "      <td>15.566667</td>\n",
       "      <td>10.942476</td>\n",
       "      <td>78.889362</td>\n",
       "      <td>75.366667</td>\n",
       "    </tr>\n",
       "    <tr>\n",
       "      <th>2010-11-26 21:02:00</th>\n",
       "      <td>15.533333</td>\n",
       "      <td>10.942476</td>\n",
       "      <td>78.889362</td>\n",
       "      <td>75.366667</td>\n",
       "    </tr>\n",
       "  </tbody>\n",
       "</table>\n",
       "<p>2075259 rows × 4 columns</p>\n",
       "</div>"
      ],
      "text/plain": [
       "                     consumption  monthly_mean  monthly_var  monthly_spread\n",
       "ts                                                                         \n",
       "2006-12-16 17:24:00    52.266667     20.815071   295.982325      123.800000\n",
       "2006-12-16 17:25:00    72.333333     20.815071   295.982325      123.800000\n",
       "2006-12-16 17:26:00    70.566667     20.815071   295.982325      123.800000\n",
       "2006-12-16 17:27:00    71.800000     20.815071   295.982325      123.800000\n",
       "2006-12-16 17:28:00    43.100000     20.815071   295.982325      123.800000\n",
       "...                          ...           ...          ...             ...\n",
       "2010-11-26 20:58:00    15.766667     10.942476    78.889362       75.366667\n",
       "2010-11-26 20:59:00    15.733333     10.942476    78.889362       75.366667\n",
       "2010-11-26 21:00:00    15.633333     10.942476    78.889362       75.366667\n",
       "2010-11-26 21:01:00    15.566667     10.942476    78.889362       75.366667\n",
       "2010-11-26 21:02:00    15.533333     10.942476    78.889362       75.366667\n",
       "\n",
       "[2075259 rows x 4 columns]"
      ]
     },
     "execution_count": 30,
     "metadata": {},
     "output_type": "execute_result"
    }
   ],
   "source": [
    "(\n",
    "    power\n",
    "    .assign(monthly_mean = power.resample('M')['consumption'].transform('mean'),\n",
    "           monthly_var = power.resample('M')['consumption'].transform('var'),\n",
    "           monthly_spread = power.resample('M')['consumption'].transform(\n",
    "               lambda month_df: month_df.max() - month_df.min())\n",
    "           )\n",
    ")"
   ]
  },
  {
   "cell_type": "markdown",
   "metadata": {},
   "source": [
    "<a id='as'></a>\n",
    "## <mark>Exercise: Resampling\n",
    "\n",
    "Transform the dataset into consecutive five-day-periods:\n",
    "\n",
    "- Show the total energy used in the five-day-periods\n",
    "\n",
    "- Find the five-day-period in which the most energy is consumed in total\n",
    "\n",
    "\n"
   ]
  },
  {
   "cell_type": "code",
   "execution_count": 38,
   "metadata": {},
   "outputs": [
    {
     "data": {
      "text/html": [
       "<div>\n",
       "<style scoped>\n",
       "    .dataframe tbody tr th:only-of-type {\n",
       "        vertical-align: middle;\n",
       "    }\n",
       "\n",
       "    .dataframe tbody tr th {\n",
       "        vertical-align: top;\n",
       "    }\n",
       "\n",
       "    .dataframe thead th {\n",
       "        text-align: right;\n",
       "    }\n",
       "</style>\n",
       "<table border=\"1\" class=\"dataframe\">\n",
       "  <thead>\n",
       "    <tr style=\"text-align: right;\">\n",
       "      <th></th>\n",
       "      <th>consumption</th>\n",
       "      <th>total_5_days</th>\n",
       "    </tr>\n",
       "    <tr>\n",
       "      <th>ts</th>\n",
       "      <th></th>\n",
       "      <th></th>\n",
       "    </tr>\n",
       "  </thead>\n",
       "  <tbody>\n",
       "    <tr>\n",
       "      <th>2006-12-22 19:02:00</th>\n",
       "      <td>55.966667</td>\n",
       "      <td>160094.0</td>\n",
       "    </tr>\n",
       "    <tr>\n",
       "      <th>2006-12-22 21:06:00</th>\n",
       "      <td>26.533333</td>\n",
       "      <td>160094.0</td>\n",
       "    </tr>\n",
       "    <tr>\n",
       "      <th>2006-12-22 21:40:00</th>\n",
       "      <td>64.500000</td>\n",
       "      <td>160094.0</td>\n",
       "    </tr>\n",
       "    <tr>\n",
       "      <th>2006-12-22 21:41:00</th>\n",
       "      <td>63.133333</td>\n",
       "      <td>160094.0</td>\n",
       "    </tr>\n",
       "    <tr>\n",
       "      <th>2006-12-22 21:42:00</th>\n",
       "      <td>65.966667</td>\n",
       "      <td>160094.0</td>\n",
       "    </tr>\n",
       "    <tr>\n",
       "      <th>2006-12-22 21:43:00</th>\n",
       "      <td>65.266667</td>\n",
       "      <td>160094.0</td>\n",
       "    </tr>\n",
       "    <tr>\n",
       "      <th>2006-12-22 21:44:00</th>\n",
       "      <td>65.833333</td>\n",
       "      <td>160094.0</td>\n",
       "    </tr>\n",
       "    <tr>\n",
       "      <th>2006-12-22 21:45:00</th>\n",
       "      <td>37.200000</td>\n",
       "      <td>160094.0</td>\n",
       "    </tr>\n",
       "    <tr>\n",
       "      <th>2006-12-22 21:46:00</th>\n",
       "      <td>33.800000</td>\n",
       "      <td>160094.0</td>\n",
       "    </tr>\n",
       "    <tr>\n",
       "      <th>2006-12-22 21:47:00</th>\n",
       "      <td>56.866667</td>\n",
       "      <td>160094.0</td>\n",
       "    </tr>\n",
       "  </tbody>\n",
       "</table>\n",
       "</div>"
      ],
      "text/plain": [
       "                     consumption  total_5_days\n",
       "ts                                            \n",
       "2006-12-22 19:02:00    55.966667      160094.0\n",
       "2006-12-22 21:06:00    26.533333      160094.0\n",
       "2006-12-22 21:40:00    64.500000      160094.0\n",
       "2006-12-22 21:41:00    63.133333      160094.0\n",
       "2006-12-22 21:42:00    65.966667      160094.0\n",
       "2006-12-22 21:43:00    65.266667      160094.0\n",
       "2006-12-22 21:44:00    65.833333      160094.0\n",
       "2006-12-22 21:45:00    37.200000      160094.0\n",
       "2006-12-22 21:46:00    33.800000      160094.0\n",
       "2006-12-22 21:47:00    56.866667      160094.0"
      ]
     },
     "execution_count": 38,
     "metadata": {},
     "output_type": "execute_result"
    }
   ],
   "source": [
    "(\n",
    "    power\n",
    "    .assign(total_5_days = power.resample('5D')['consumption'].transform('sum'))\n",
    "    .sort_values('total_5_days', ascending=False)\n",
    "    .head(10)\n",
    ")"
   ]
  },
  {
   "cell_type": "code",
   "execution_count": 44,
   "metadata": {},
   "outputs": [
    {
     "data": {
      "text/html": [
       "<div>\n",
       "<style scoped>\n",
       "    .dataframe tbody tr th:only-of-type {\n",
       "        vertical-align: middle;\n",
       "    }\n",
       "\n",
       "    .dataframe tbody tr th {\n",
       "        vertical-align: top;\n",
       "    }\n",
       "\n",
       "    .dataframe thead th {\n",
       "        text-align: right;\n",
       "    }\n",
       "</style>\n",
       "<table border=\"1\" class=\"dataframe\">\n",
       "  <thead>\n",
       "    <tr style=\"text-align: right;\">\n",
       "      <th></th>\n",
       "      <th>consumption</th>\n",
       "    </tr>\n",
       "    <tr>\n",
       "      <th>ts</th>\n",
       "      <th></th>\n",
       "    </tr>\n",
       "  </thead>\n",
       "  <tbody>\n",
       "    <tr>\n",
       "      <th>2006-12-21</th>\n",
       "      <td>160094.0</td>\n",
       "    </tr>\n",
       "  </tbody>\n",
       "</table>\n",
       "</div>"
      ],
      "text/plain": [
       "            consumption\n",
       "ts                     \n",
       "2006-12-21     160094.0"
      ]
     },
     "execution_count": 44,
     "metadata": {},
     "output_type": "execute_result"
    }
   ],
   "source": [
    "# %load answers/power-resampling.py\n",
    "(\n",
    "    power\n",
    "    .resample('5D')\n",
    "    .sum()\n",
    "    #.sort_values(\"consumption\", ascending=False)\n",
    "    .loc[lambda df: df['consumption'] == df['consumption'].max()]\n",
    ")\n"
   ]
  },
  {
   "cell_type": "markdown",
   "metadata": {},
   "source": [
    "<a id='sum'></a>\n",
    "## Summary\n",
    "\n",
    "We have covered: \n",
    "- How to properly read in time series data in Pandas, and why it is important to set the date as an index\n",
    "- How to aggregate over time periods with Pandas\n"
   ]
  }
 ],
 "metadata": {
  "kernelspec": {
   "display_name": "Python 3 (ipykernel)",
   "language": "python",
   "name": "python3"
  },
  "language_info": {
   "codemirror_mode": {
    "name": "ipython",
    "version": 3
   },
   "file_extension": ".py",
   "mimetype": "text/x-python",
   "name": "python",
   "nbconvert_exporter": "python",
   "pygments_lexer": "ipython3",
   "version": "3.9.15"
  }
 },
 "nbformat": 4,
 "nbformat_minor": 4
}
