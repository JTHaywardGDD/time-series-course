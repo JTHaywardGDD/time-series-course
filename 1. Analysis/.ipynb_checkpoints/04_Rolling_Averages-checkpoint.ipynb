{
 "cells": [
  {
   "cell_type": "markdown",
   "metadata": {},
   "source": [
    "<img src=images/logo.png align='right' width=200>\n",
    "\n",
    "# Rolling Averages\n",
    "\n",
    "## Goal\n",
    "In this notebook we shall examine how Pandas can be used to compute rolling averages. This process can help to make trends clearer to visualise."
   ]
  },
  {
   "cell_type": "code",
   "execution_count": 1,
   "metadata": {},
   "outputs": [],
   "source": [
    "import pandas as pd\n",
    "import matplotlib.pyplot as plt\n",
    "import numpy as np"
   ]
  },
  {
   "cell_type": "markdown",
   "metadata": {},
   "source": [
    "Again, we will use the *household power consumption* dataset. It comes from [UCI ML repo](https://archive.ics.uci.edu/ml/datasets/individual+household+electric+power+consumption) and contains detailed power consumption time series data of a single household in Paris between 2006 and 2010.\n",
    "![](data:image/jpeg;base64,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)"
   ]
  },
  {
   "cell_type": "code",
   "execution_count": 2,
   "metadata": {},
   "outputs": [
    {
     "data": {
      "text/html": [
       "<div>\n",
       "<style scoped>\n",
       "    .dataframe tbody tr th:only-of-type {\n",
       "        vertical-align: middle;\n",
       "    }\n",
       "\n",
       "    .dataframe tbody tr th {\n",
       "        vertical-align: top;\n",
       "    }\n",
       "\n",
       "    .dataframe thead th {\n",
       "        text-align: right;\n",
       "    }\n",
       "</style>\n",
       "<table border=\"1\" class=\"dataframe\">\n",
       "  <thead>\n",
       "    <tr style=\"text-align: right;\">\n",
       "      <th></th>\n",
       "      <th>consumption</th>\n",
       "    </tr>\n",
       "    <tr>\n",
       "      <th>ts</th>\n",
       "      <th></th>\n",
       "    </tr>\n",
       "  </thead>\n",
       "  <tbody>\n",
       "    <tr>\n",
       "      <th>2006-12-16</th>\n",
       "      <td>14680.933333</td>\n",
       "    </tr>\n",
       "    <tr>\n",
       "      <th>2006-12-17</th>\n",
       "      <td>36946.666667</td>\n",
       "    </tr>\n",
       "    <tr>\n",
       "      <th>2006-12-18</th>\n",
       "      <td>19028.433333</td>\n",
       "    </tr>\n",
       "    <tr>\n",
       "      <th>2006-12-19</th>\n",
       "      <td>13131.900000</td>\n",
       "    </tr>\n",
       "    <tr>\n",
       "      <th>2006-12-20</th>\n",
       "      <td>20384.800000</td>\n",
       "    </tr>\n",
       "  </tbody>\n",
       "</table>\n",
       "</div>"
      ],
      "text/plain": [
       "             consumption\n",
       "ts                      \n",
       "2006-12-16  14680.933333\n",
       "2006-12-17  36946.666667\n",
       "2006-12-18  19028.433333\n",
       "2006-12-19  13131.900000\n",
       "2006-12-20  20384.800000"
      ]
     },
     "execution_count": 2,
     "metadata": {},
     "output_type": "execute_result"
    }
   ],
   "source": [
    "power = pd.read_csv('data/household_power_consumption.csv', parse_dates=['ts'], index_col='ts')\n",
    "power_daily = power.resample('D').sum()\n",
    "power_daily.head()"
   ]
  },
  {
   "cell_type": "markdown",
   "metadata": {},
   "source": [
    "<a id='s'></a>\n",
    "## Shifting\n",
    "\n",
    "It can be often useful to shift some variables forward or backwards in time. This can for example help us create variables with lagged values or calculate differences in values between time steps. This can be done using Panda's `shift()` method, which can shift values by a given number of periods (positive or negative). The example below uses this method to create a new variable for electricity consumption during the previous day:"
   ]
  },
  {
   "cell_type": "code",
   "execution_count": 5,
   "metadata": {},
   "outputs": [
    {
     "data": {
      "text/html": [
       "<div>\n",
       "<style scoped>\n",
       "    .dataframe tbody tr th:only-of-type {\n",
       "        vertical-align: middle;\n",
       "    }\n",
       "\n",
       "    .dataframe tbody tr th {\n",
       "        vertical-align: top;\n",
       "    }\n",
       "\n",
       "    .dataframe thead th {\n",
       "        text-align: right;\n",
       "    }\n",
       "</style>\n",
       "<table border=\"1\" class=\"dataframe\">\n",
       "  <thead>\n",
       "    <tr style=\"text-align: right;\">\n",
       "      <th></th>\n",
       "      <th>consumption</th>\n",
       "    </tr>\n",
       "    <tr>\n",
       "      <th>ts</th>\n",
       "      <th></th>\n",
       "    </tr>\n",
       "  </thead>\n",
       "  <tbody>\n",
       "    <tr>\n",
       "      <th>2006-12-16</th>\n",
       "      <td>14680.933333</td>\n",
       "    </tr>\n",
       "    <tr>\n",
       "      <th>2006-12-17</th>\n",
       "      <td>36946.666667</td>\n",
       "    </tr>\n",
       "    <tr>\n",
       "      <th>2006-12-18</th>\n",
       "      <td>19028.433333</td>\n",
       "    </tr>\n",
       "    <tr>\n",
       "      <th>2006-12-19</th>\n",
       "      <td>13131.900000</td>\n",
       "    </tr>\n",
       "    <tr>\n",
       "      <th>2006-12-20</th>\n",
       "      <td>20384.800000</td>\n",
       "    </tr>\n",
       "    <tr>\n",
       "      <th>...</th>\n",
       "      <td>...</td>\n",
       "    </tr>\n",
       "    <tr>\n",
       "      <th>2010-11-22</th>\n",
       "      <td>16924.600000</td>\n",
       "    </tr>\n",
       "    <tr>\n",
       "      <th>2010-11-23</th>\n",
       "      <td>16352.266667</td>\n",
       "    </tr>\n",
       "    <tr>\n",
       "      <th>2010-11-24</th>\n",
       "      <td>13769.466667</td>\n",
       "    </tr>\n",
       "    <tr>\n",
       "      <th>2010-11-25</th>\n",
       "      <td>17278.733333</td>\n",
       "    </tr>\n",
       "    <tr>\n",
       "      <th>2010-11-26</th>\n",
       "      <td>13347.733333</td>\n",
       "    </tr>\n",
       "  </tbody>\n",
       "</table>\n",
       "<p>1442 rows × 1 columns</p>\n",
       "</div>"
      ],
      "text/plain": [
       "             consumption\n",
       "ts                      \n",
       "2006-12-16  14680.933333\n",
       "2006-12-17  36946.666667\n",
       "2006-12-18  19028.433333\n",
       "2006-12-19  13131.900000\n",
       "2006-12-20  20384.800000\n",
       "...                  ...\n",
       "2010-11-22  16924.600000\n",
       "2010-11-23  16352.266667\n",
       "2010-11-24  13769.466667\n",
       "2010-11-25  17278.733333\n",
       "2010-11-26  13347.733333\n",
       "\n",
       "[1442 rows x 1 columns]"
      ]
     },
     "execution_count": 5,
     "metadata": {},
     "output_type": "execute_result"
    }
   ],
   "source": [
    "power_daily[['consumption']]"
   ]
  },
  {
   "cell_type": "code",
   "execution_count": 6,
   "metadata": {},
   "outputs": [
    {
     "data": {
      "text/html": [
       "<div>\n",
       "<style scoped>\n",
       "    .dataframe tbody tr th:only-of-type {\n",
       "        vertical-align: middle;\n",
       "    }\n",
       "\n",
       "    .dataframe tbody tr th {\n",
       "        vertical-align: top;\n",
       "    }\n",
       "\n",
       "    .dataframe thead th {\n",
       "        text-align: right;\n",
       "    }\n",
       "</style>\n",
       "<table border=\"1\" class=\"dataframe\">\n",
       "  <thead>\n",
       "    <tr style=\"text-align: right;\">\n",
       "      <th></th>\n",
       "      <th>consumption</th>\n",
       "    </tr>\n",
       "    <tr>\n",
       "      <th>ts</th>\n",
       "      <th></th>\n",
       "    </tr>\n",
       "  </thead>\n",
       "  <tbody>\n",
       "    <tr>\n",
       "      <th>2006-12-16</th>\n",
       "      <td>NaN</td>\n",
       "    </tr>\n",
       "    <tr>\n",
       "      <th>2006-12-17</th>\n",
       "      <td>14680.933333</td>\n",
       "    </tr>\n",
       "    <tr>\n",
       "      <th>2006-12-18</th>\n",
       "      <td>36946.666667</td>\n",
       "    </tr>\n",
       "    <tr>\n",
       "      <th>2006-12-19</th>\n",
       "      <td>19028.433333</td>\n",
       "    </tr>\n",
       "    <tr>\n",
       "      <th>2006-12-20</th>\n",
       "      <td>13131.900000</td>\n",
       "    </tr>\n",
       "    <tr>\n",
       "      <th>...</th>\n",
       "      <td>...</td>\n",
       "    </tr>\n",
       "    <tr>\n",
       "      <th>2010-11-22</th>\n",
       "      <td>9731.166667</td>\n",
       "    </tr>\n",
       "    <tr>\n",
       "      <th>2010-11-23</th>\n",
       "      <td>16924.600000</td>\n",
       "    </tr>\n",
       "    <tr>\n",
       "      <th>2010-11-24</th>\n",
       "      <td>16352.266667</td>\n",
       "    </tr>\n",
       "    <tr>\n",
       "      <th>2010-11-25</th>\n",
       "      <td>13769.466667</td>\n",
       "    </tr>\n",
       "    <tr>\n",
       "      <th>2010-11-26</th>\n",
       "      <td>17278.733333</td>\n",
       "    </tr>\n",
       "  </tbody>\n",
       "</table>\n",
       "<p>1442 rows × 1 columns</p>\n",
       "</div>"
      ],
      "text/plain": [
       "             consumption\n",
       "ts                      \n",
       "2006-12-16           NaN\n",
       "2006-12-17  14680.933333\n",
       "2006-12-18  36946.666667\n",
       "2006-12-19  19028.433333\n",
       "2006-12-20  13131.900000\n",
       "...                  ...\n",
       "2010-11-22   9731.166667\n",
       "2010-11-23  16924.600000\n",
       "2010-11-24  16352.266667\n",
       "2010-11-25  13769.466667\n",
       "2010-11-26  17278.733333\n",
       "\n",
       "[1442 rows x 1 columns]"
      ]
     },
     "execution_count": 6,
     "metadata": {},
     "output_type": "execute_result"
    }
   ],
   "source": [
    "power_daily[['consumption']].shift()"
   ]
  },
  {
   "cell_type": "code",
   "execution_count": null,
   "metadata": {},
   "outputs": [],
   "source": [
    "(\n",
    "    power_daily\n",
    "    .assign(consumption_yesterday = lambda df: df['consumption'].shift(1))\n",
    "    .assign(consumption_increase = lambda df: df['consumption'] - df['consumption_yesterday'])\n",
    "    .dropna()\n",
    "    .head()\n",
    ")"
   ]
  },
  {
   "cell_type": "markdown",
   "metadata": {},
   "source": [
    "Alternatively we can use the `diff()` method to do this."
   ]
  },
  {
   "cell_type": "code",
   "execution_count": null,
   "metadata": {},
   "outputs": [],
   "source": [
    "(\n",
    "    power_daily\n",
    "    .assign(consumption_increase = lambda df: df['consumption'].diff(1))\n",
    "    .dropna()\n",
    "    .head()\n",
    ")"
   ]
  },
  {
   "cell_type": "markdown",
   "metadata": {},
   "source": [
    "<a id='rs'></a>\n",
    "## Rolling average\n",
    "\n",
    "Let us have a closer look at the power consumption patterns during a single year. The simplest way to plot timestamp data dynamics in Pandas is using `plot()`, which by default plots a linear plot over time:"
   ]
  },
  {
   "cell_type": "code",
   "execution_count": null,
   "metadata": {},
   "outputs": [],
   "source": [
    "power_daily2008 = power_daily.loc['2008']\n",
    "\n",
    "power_daily2008.plot(figsize=(18,6));"
   ]
  },
  {
   "cell_type": "markdown",
   "metadata": {},
   "source": [
    "Various patterns can be seen on this daily line graph, but overal patterns may be hard to seen due to noise plentiful short spikes. \n",
    "\n",
    "In order to see a *smoother* patterns over time, a __rolling average__ can be applied to a time series. A rolling average walks over a given window (7 days for example) and calculates the average for each window.\n",
    "\n",
    "If our window would look backwards in time, the rolling average for our daily power consumption dataset in 2008 would be as follows:\n",
    "\n",
    "| Window            | Average |\n",
    "|-------------------|---------|\n",
    "| ...               | ...     |\n",
    "| 1st Jan 2008 - 7th Jan 2008| 19163   |\n",
    "| 2nd Jan 2008- 8th Jan 2008| 17752   |\n",
    "| 3rd Jan 2008 - 9th Jan 2008| 18334.   |\n",
    "| ....              | ...     |"
   ]
  },
  {
   "cell_type": "code",
   "execution_count": null,
   "metadata": {},
   "outputs": [],
   "source": [
    "(\n",
    "    power_daily2008\n",
    "    .loc['2nd Jan 2008':'8th Jan 2008']\n",
    "    .mean()\n",
    ")"
   ]
  },
  {
   "cell_type": "markdown",
   "metadata": {},
   "source": [
    "Pandas can perform rolling calculations via the `.rolling()` method which can be called on both a dataframe as well as a series object. "
   ]
  },
  {
   "cell_type": "code",
   "execution_count": null,
   "metadata": {},
   "outputs": [],
   "source": [
    "(\n",
    "    power_daily2008\n",
    "    .assign(rolling_mean=lambda df: df['consumption'].rolling('7D').mean())\n",
    ").head(10)"
   ]
  },
  {
   "cell_type": "markdown",
   "metadata": {},
   "source": [
    "The window size for this method can be set using both a fixed number of data points as well as particular time intervals (days, weeks etc)."
   ]
  },
  {
   "cell_type": "code",
   "execution_count": null,
   "metadata": {},
   "outputs": [],
   "source": [
    "(\n",
    "    power_daily2008\n",
    "    .assign(rolling_mean=lambda df: df['consumption'].rolling(7).mean())\n",
    ").head(10)"
   ]
  },
  {
   "cell_type": "markdown",
   "metadata": {},
   "source": [
    "Plotting the rolling average of time series data can remove the noise spikes and allow us to see the patterns in the data."
   ]
  },
  {
   "cell_type": "code",
   "execution_count": null,
   "metadata": {},
   "outputs": [],
   "source": [
    "(\n",
    "    power_daily2008\n",
    "    .assign(rolling_mean=lambda df: df['consumption'].rolling('20D').mean())\n",
    "      .drop(columns=['consumption'])\n",
    "    .plot(figsize=(16, 4))\n",
    ");"
   ]
  },
  {
   "cell_type": "markdown",
   "metadata": {},
   "source": [
    "Notice how the smoothness is affected by the window size."
   ]
  },
  {
   "cell_type": "code",
   "execution_count": null,
   "metadata": {},
   "outputs": [],
   "source": [
    "(\n",
    "    power_daily2008\n",
    "    .assign(rolling_mean=lambda df: df['consumption'].rolling('20D').mean())\n",
    "    .assign(rolling_mean_small=lambda df: df['consumption'].rolling('7D').mean())\n",
    "    .assign(rolling_mean_large=lambda df: df['consumption'].rolling('60D').mean())\n",
    "    #.drop(columns=['consumption'])\n",
    "    .plot(figsize=(16, 4))\n",
    ");"
   ]
  },
  {
   "cell_type": "markdown",
   "metadata": {},
   "source": [
    "Note that the smoothed lines above are lagging behind what actually happens.\n",
    "\n",
    "This is because by default, pandas computes the rolling average using information from the previous datapoints.\n",
    "\n",
    "We can remove this effect using **centering**.\n",
    "\n",
    "To center the rolling mean, we can use the option `center=True`."
   ]
  },
  {
   "cell_type": "code",
   "execution_count": null,
   "metadata": {},
   "outputs": [],
   "source": [
    "(\n",
    "    power_daily2008\n",
    "    .assign(rolling_mean=lambda df: df['consumption'].rolling('5D').mean())\n",
    "    .assign(rolling_mean_center=lambda df: df['consumption'].rolling('5D', center=True).mean())\n",
    ").head()"
   ]
  },
  {
   "cell_type": "code",
   "execution_count": null,
   "metadata": {},
   "outputs": [],
   "source": [
    "(\n",
    "    power_daily2008\n",
    "    .assign(rolling_mean=lambda df: df['consumption'].rolling('21D').mean())\n",
    "    .assign(rolling_mean_center=lambda df: df['consumption'].rolling('21D', center=True).mean())\n",
    "    #.drop(columns=['consumption'])  \n",
    "    .plot(figsize=(16,4), title='rolling_mean_center and manual_center overlap' )\n",
    ");"
   ]
  },
  {
   "cell_type": "markdown",
   "metadata": {},
   "source": [
    "Alternatively, we could manually shift the data backwards. \n",
    "\n",
    "You can see below how both achieve the same result - the lines are overlapping! "
   ]
  },
  {
   "cell_type": "code",
   "execution_count": null,
   "metadata": {},
   "outputs": [],
   "source": [
    "(\n",
    "    power_daily2008\n",
    "    .assign(rolling_mean=lambda df: df['consumption'].rolling('21D').mean())\n",
    "    .assign(rolling_mean_center=lambda df: df['consumption'].rolling('21D', center=True).mean())\n",
    "    .assign(manual_center=lambda df: df['rolling_mean'].shift(-10))\n",
    "    .drop(columns=['consumption', 'rolling_mean']) \n",
    "    .plot(figsize=(16,4), title='rolling_mean_center and manual_center overlap')\n",
    ");"
   ]
  },
  {
   "cell_type": "markdown",
   "metadata": {},
   "source": [
    "**Important**: Note that centering requires information from the future for each point, which means it would be unfair to use it for predictions."
   ]
  },
  {
   "cell_type": "markdown",
   "metadata": {},
   "source": [
    "You can also do more than just 'calculating the mean' — you can also compute other statistics (such as variance)."
   ]
  },
  {
   "cell_type": "code",
   "execution_count": null,
   "metadata": {
    "scrolled": true
   },
   "outputs": [],
   "source": [
    "(\n",
    "    power_daily2008\n",
    "    .assign(\n",
    "        rolling_var=lambda df: df['consumption'].rolling('20D').var(),\n",
    "        #rolling_var_center=lambda df: df['consumption'].rolling(20, center=True).var()\n",
    "    )\n",
    "    .drop(columns='consumption')\n",
    "    .plot(figsize=(16,4))\n",
    ");"
   ]
  },
  {
   "cell_type": "markdown",
   "metadata": {},
   "source": [
    "## <mark>Exercise: Rolling averages\n",
    "\n",
    "Compute the rolling 5-day average for the original power dataset.\n",
    "\n",
    "Can you find the 5-day period of time that has the highest average power consumption?"
   ]
  },
  {
   "cell_type": "code",
   "execution_count": null,
   "metadata": {},
   "outputs": [],
   "source": []
  },
  {
   "cell_type": "markdown",
   "metadata": {},
   "source": [
    "#### Rolling Average Summary\n",
    "\n",
    "A simple way to isolate signal from noise in time series data and get an idea about general time series behavior.\n",
    "\n",
    "It however has some important drawbacks:\n",
    "\n",
    "- small window sizes can lead to more noise than signal\n",
    "- it always lags by the window size (unless centered)\n",
    "- it is not really informative about the future\n",
    "- can be significantly skewed by extreme datapoints in the past"
   ]
  }
 ],
 "metadata": {
  "kernelspec": {
   "display_name": "Python 3 (ipykernel)",
   "language": "python",
   "name": "python3"
  },
  "language_info": {
   "codemirror_mode": {
    "name": "ipython",
    "version": 3
   },
   "file_extension": ".py",
   "mimetype": "text/x-python",
   "name": "python",
   "nbconvert_exporter": "python",
   "pygments_lexer": "ipython3",
   "version": "3.9.15"
  }
 },
 "nbformat": 4,
 "nbformat_minor": 4
}
