{
 "cells": [
  {
   "cell_type": "markdown",
   "metadata": {},
   "source": [
    "<img src=images/logo.png align='right' width=200>\n",
    "\n",
    "# Time Based Features\n",
    "\n",
    "## Goal\n",
    "\n",
    "Our next step is to get introduced to a real time series dataset and learn some fundamental analysis techniques.\n",
    "\n",
    "In this notebook we shall focus on creating time-based features.\n",
    "\n",
    "## Program\n",
    "\n",
    "- [Time Based Features](#tb)\n",
    "- [Assignment]()\n",
    "- [Summary](#sum)\n"
   ]
  },
  {
   "cell_type": "code",
   "execution_count": 1,
   "metadata": {},
   "outputs": [],
   "source": [
    "import pandas as pd\n",
    "import numpy as np\n",
    "import seaborn as sns"
   ]
  },
  {
   "cell_type": "markdown",
   "metadata": {},
   "source": [
    "<a id='read'></a>\n",
    "\n",
    "## Reading in Time Series Data\n",
    "Again, we will use the *household power consumption* dataset. It comes from [UCI ML repo](https://archive.ics.uci.edu/ml/datasets/individual+household+electric+power+consumption) and contains detailed power consumption time series data of a single household in Paris between 2006 and 2010.\n",
    "![](images/power.jpeg)\n",
    "\n",
    "Let's load the data in again, taking care to parse the time information and set it as the index."
   ]
  },
  {
   "cell_type": "code",
   "execution_count": 2,
   "metadata": {},
   "outputs": [
    {
     "data": {
      "text/html": [
       "<div>\n",
       "<style scoped>\n",
       "    .dataframe tbody tr th:only-of-type {\n",
       "        vertical-align: middle;\n",
       "    }\n",
       "\n",
       "    .dataframe tbody tr th {\n",
       "        vertical-align: top;\n",
       "    }\n",
       "\n",
       "    .dataframe thead th {\n",
       "        text-align: right;\n",
       "    }\n",
       "</style>\n",
       "<table border=\"1\" class=\"dataframe\">\n",
       "  <thead>\n",
       "    <tr style=\"text-align: right;\">\n",
       "      <th></th>\n",
       "      <th>consumption</th>\n",
       "    </tr>\n",
       "    <tr>\n",
       "      <th>ts</th>\n",
       "      <th></th>\n",
       "    </tr>\n",
       "  </thead>\n",
       "  <tbody>\n",
       "    <tr>\n",
       "      <th>2006-12-16 17:24:00</th>\n",
       "      <td>52.266667</td>\n",
       "    </tr>\n",
       "    <tr>\n",
       "      <th>2006-12-16 17:25:00</th>\n",
       "      <td>72.333333</td>\n",
       "    </tr>\n",
       "    <tr>\n",
       "      <th>2006-12-16 17:26:00</th>\n",
       "      <td>70.566667</td>\n",
       "    </tr>\n",
       "    <tr>\n",
       "      <th>2006-12-16 17:27:00</th>\n",
       "      <td>71.800000</td>\n",
       "    </tr>\n",
       "    <tr>\n",
       "      <th>2006-12-16 17:28:00</th>\n",
       "      <td>43.100000</td>\n",
       "    </tr>\n",
       "  </tbody>\n",
       "</table>\n",
       "</div>"
      ],
      "text/plain": [
       "                     consumption\n",
       "ts                              \n",
       "2006-12-16 17:24:00    52.266667\n",
       "2006-12-16 17:25:00    72.333333\n",
       "2006-12-16 17:26:00    70.566667\n",
       "2006-12-16 17:27:00    71.800000\n",
       "2006-12-16 17:28:00    43.100000"
      ]
     },
     "execution_count": 2,
     "metadata": {},
     "output_type": "execute_result"
    }
   ],
   "source": [
    "power = pd.read_csv('data/household_power_consumption.csv', \n",
    "                    parse_dates=['ts'], \n",
    "                    index_col='ts')\n",
    "power.head()"
   ]
  },
  {
   "cell_type": "markdown",
   "metadata": {},
   "source": [
    "<a id='tb'></a>\n",
    "## Time Based Features"
   ]
  },
  {
   "cell_type": "markdown",
   "metadata": {},
   "source": [
    "Let's create a daily data frame (precision in minutes can be a little too much granularity)"
   ]
  },
  {
   "cell_type": "code",
   "execution_count": 3,
   "metadata": {},
   "outputs": [
    {
     "data": {
      "text/html": [
       "<div>\n",
       "<style scoped>\n",
       "    .dataframe tbody tr th:only-of-type {\n",
       "        vertical-align: middle;\n",
       "    }\n",
       "\n",
       "    .dataframe tbody tr th {\n",
       "        vertical-align: top;\n",
       "    }\n",
       "\n",
       "    .dataframe thead th {\n",
       "        text-align: right;\n",
       "    }\n",
       "</style>\n",
       "<table border=\"1\" class=\"dataframe\">\n",
       "  <thead>\n",
       "    <tr style=\"text-align: right;\">\n",
       "      <th></th>\n",
       "      <th>consumption</th>\n",
       "    </tr>\n",
       "    <tr>\n",
       "      <th>ts</th>\n",
       "      <th></th>\n",
       "    </tr>\n",
       "  </thead>\n",
       "  <tbody>\n",
       "    <tr>\n",
       "      <th>2006-12-16</th>\n",
       "      <td>14680.933333</td>\n",
       "    </tr>\n",
       "    <tr>\n",
       "      <th>2006-12-17</th>\n",
       "      <td>36946.666667</td>\n",
       "    </tr>\n",
       "    <tr>\n",
       "      <th>2006-12-18</th>\n",
       "      <td>19028.433333</td>\n",
       "    </tr>\n",
       "    <tr>\n",
       "      <th>2006-12-19</th>\n",
       "      <td>13131.900000</td>\n",
       "    </tr>\n",
       "    <tr>\n",
       "      <th>2006-12-20</th>\n",
       "      <td>20384.800000</td>\n",
       "    </tr>\n",
       "    <tr>\n",
       "      <th>...</th>\n",
       "      <td>...</td>\n",
       "    </tr>\n",
       "    <tr>\n",
       "      <th>2010-11-22</th>\n",
       "      <td>16924.600000</td>\n",
       "    </tr>\n",
       "    <tr>\n",
       "      <th>2010-11-23</th>\n",
       "      <td>16352.266667</td>\n",
       "    </tr>\n",
       "    <tr>\n",
       "      <th>2010-11-24</th>\n",
       "      <td>13769.466667</td>\n",
       "    </tr>\n",
       "    <tr>\n",
       "      <th>2010-11-25</th>\n",
       "      <td>17278.733333</td>\n",
       "    </tr>\n",
       "    <tr>\n",
       "      <th>2010-11-26</th>\n",
       "      <td>13347.733333</td>\n",
       "    </tr>\n",
       "  </tbody>\n",
       "</table>\n",
       "<p>1442 rows × 1 columns</p>\n",
       "</div>"
      ],
      "text/plain": [
       "             consumption\n",
       "ts                      \n",
       "2006-12-16  14680.933333\n",
       "2006-12-17  36946.666667\n",
       "2006-12-18  19028.433333\n",
       "2006-12-19  13131.900000\n",
       "2006-12-20  20384.800000\n",
       "...                  ...\n",
       "2010-11-22  16924.600000\n",
       "2010-11-23  16352.266667\n",
       "2010-11-24  13769.466667\n",
       "2010-11-25  17278.733333\n",
       "2010-11-26  13347.733333\n",
       "\n",
       "[1442 rows x 1 columns]"
      ]
     },
     "execution_count": 3,
     "metadata": {},
     "output_type": "execute_result"
    }
   ],
   "source": [
    "power_daily = power.resample('D').sum()\n",
    "power_daily"
   ]
  },
  {
   "cell_type": "markdown",
   "metadata": {},
   "source": [
    "We can add time based features to our data.\n",
    "\n",
    "In the example we choose to extract the day of the week and the quarter. Feel free to explore [other](https://pandas.pydata.org/pandas-docs/stable/reference/series.html#api-series-dt) properties and methods."
   ]
  },
  {
   "cell_type": "code",
   "execution_count": 6,
   "metadata": {
    "scrolled": true
   },
   "outputs": [
    {
     "data": {
      "text/html": [
       "<div>\n",
       "<style scoped>\n",
       "    .dataframe tbody tr th:only-of-type {\n",
       "        vertical-align: middle;\n",
       "    }\n",
       "\n",
       "    .dataframe tbody tr th {\n",
       "        vertical-align: top;\n",
       "    }\n",
       "\n",
       "    .dataframe thead th {\n",
       "        text-align: right;\n",
       "    }\n",
       "</style>\n",
       "<table border=\"1\" class=\"dataframe\">\n",
       "  <thead>\n",
       "    <tr style=\"text-align: right;\">\n",
       "      <th></th>\n",
       "      <th>consumption</th>\n",
       "      <th>weekday</th>\n",
       "      <th>quarter</th>\n",
       "    </tr>\n",
       "    <tr>\n",
       "      <th>ts</th>\n",
       "      <th></th>\n",
       "      <th></th>\n",
       "      <th></th>\n",
       "    </tr>\n",
       "  </thead>\n",
       "  <tbody>\n",
       "    <tr>\n",
       "      <th>2006-12-18</th>\n",
       "      <td>19028.433333</td>\n",
       "      <td>Monday</td>\n",
       "      <td>4</td>\n",
       "    </tr>\n",
       "    <tr>\n",
       "      <th>2006-12-25</th>\n",
       "      <td>31341.666667</td>\n",
       "      <td>Monday</td>\n",
       "      <td>4</td>\n",
       "    </tr>\n",
       "    <tr>\n",
       "      <th>2007-01-01</th>\n",
       "      <td>39584.733333</td>\n",
       "      <td>Monday</td>\n",
       "      <td>1</td>\n",
       "    </tr>\n",
       "    <tr>\n",
       "      <th>2007-01-08</th>\n",
       "      <td>19342.000000</td>\n",
       "      <td>Monday</td>\n",
       "      <td>1</td>\n",
       "    </tr>\n",
       "    <tr>\n",
       "      <th>2007-01-15</th>\n",
       "      <td>17310.300000</td>\n",
       "      <td>Monday</td>\n",
       "      <td>1</td>\n",
       "    </tr>\n",
       "  </tbody>\n",
       "</table>\n",
       "</div>"
      ],
      "text/plain": [
       "             consumption weekday  quarter\n",
       "ts                                       \n",
       "2006-12-18  19028.433333  Monday        4\n",
       "2006-12-25  31341.666667  Monday        4\n",
       "2007-01-01  39584.733333  Monday        1\n",
       "2007-01-08  19342.000000  Monday        1\n",
       "2007-01-15  17310.300000  Monday        1"
      ]
     },
     "execution_count": 6,
     "metadata": {},
     "output_type": "execute_result"
    }
   ],
   "source": [
    "(\n",
    "    power_daily\n",
    "    .assign(weekday = power_daily.index.day_name())\n",
    "    .assign(quarter = power_daily.index.quarter)\n",
    "    .loc[lambda df: df['weekday']=='Monday']\n",
    ").head()"
   ]
  },
  {
   "cell_type": "markdown",
   "metadata": {},
   "source": [
    "The time based features can help with our analysis.\n",
    "\n",
    "In the example below we add year and day of year features to our data. This helps us to track the daily consumption across the different years."
   ]
  },
  {
   "cell_type": "code",
   "execution_count": 7,
   "metadata": {},
   "outputs": [
    {
     "data": {
      "text/html": [
       "<div>\n",
       "<style scoped>\n",
       "    .dataframe tbody tr th:only-of-type {\n",
       "        vertical-align: middle;\n",
       "    }\n",
       "\n",
       "    .dataframe tbody tr th {\n",
       "        vertical-align: top;\n",
       "    }\n",
       "\n",
       "    .dataframe thead th {\n",
       "        text-align: right;\n",
       "    }\n",
       "</style>\n",
       "<table border=\"1\" class=\"dataframe\">\n",
       "  <thead>\n",
       "    <tr style=\"text-align: right;\">\n",
       "      <th></th>\n",
       "      <th>consumption</th>\n",
       "      <th>year</th>\n",
       "      <th>month</th>\n",
       "      <th>month_name</th>\n",
       "    </tr>\n",
       "    <tr>\n",
       "      <th>ts</th>\n",
       "      <th></th>\n",
       "      <th></th>\n",
       "      <th></th>\n",
       "      <th></th>\n",
       "    </tr>\n",
       "  </thead>\n",
       "  <tbody>\n",
       "    <tr>\n",
       "      <th>2006-12-31</th>\n",
       "      <td>457765.033333</td>\n",
       "      <td>2006</td>\n",
       "      <td>12</td>\n",
       "      <td>December</td>\n",
       "    </tr>\n",
       "    <tr>\n",
       "      <th>2007-01-31</th>\n",
       "      <td>684912.700000</td>\n",
       "      <td>2007</td>\n",
       "      <td>1</td>\n",
       "      <td>January</td>\n",
       "    </tr>\n",
       "    <tr>\n",
       "      <th>2007-02-28</th>\n",
       "      <td>559019.433333</td>\n",
       "      <td>2007</td>\n",
       "      <td>2</td>\n",
       "      <td>February</td>\n",
       "    </tr>\n",
       "    <tr>\n",
       "      <th>2007-03-31</th>\n",
       "      <td>525144.533333</td>\n",
       "      <td>2007</td>\n",
       "      <td>3</td>\n",
       "      <td>March</td>\n",
       "    </tr>\n",
       "    <tr>\n",
       "      <th>2007-04-30</th>\n",
       "      <td>316359.766667</td>\n",
       "      <td>2007</td>\n",
       "      <td>4</td>\n",
       "      <td>April</td>\n",
       "    </tr>\n",
       "  </tbody>\n",
       "</table>\n",
       "</div>"
      ],
      "text/plain": [
       "              consumption  year  month month_name\n",
       "ts                                               \n",
       "2006-12-31  457765.033333  2006     12   December\n",
       "2007-01-31  684912.700000  2007      1    January\n",
       "2007-02-28  559019.433333  2007      2   February\n",
       "2007-03-31  525144.533333  2007      3      March\n",
       "2007-04-30  316359.766667  2007      4      April"
      ]
     },
     "execution_count": 7,
     "metadata": {},
     "output_type": "execute_result"
    }
   ],
   "source": [
    "power_monthly = (\n",
    "    power.resample('M').sum()\n",
    "    .assign(year = lambda df: df.index.year)\n",
    "    .assign(month = lambda df: df.index.month)\n",
    "    .assign(month_name = lambda df: df.index.month_name())\n",
    ")\n",
    "power_monthly.head()"
   ]
  },
  {
   "cell_type": "code",
   "execution_count": 8,
   "metadata": {},
   "outputs": [
    {
     "data": {
      "text/plain": [
       "<AxesSubplot:xlabel='month', ylabel='consumption'>"
      ]
     },
     "execution_count": 8,
     "metadata": {},
     "output_type": "execute_result"
    },
    {
     "data": {
      "image/png": "[encoded data removed]",
      "text/plain": [
       "<Figure size 640x480 with 1 Axes>"
      ]
     },
     "metadata": {},
     "output_type": "display_data"
    }
   ],
   "source": [
    "import seaborn as sns\n",
    "\n",
    "sns.lineplot(data=power_monthly, \n",
    "             x='month', \n",
    "             y='consumption', \n",
    "             hue=power_monthly['year'].astype(str))"
   ]
  },
  {
   "cell_type": "code",
   "execution_count": null,
   "metadata": {},
   "outputs": [],
   "source": [
    "conda install altair"
   ]
  },
  {
   "cell_type": "code",
   "execution_count": null,
   "metadata": {},
   "outputs": [],
   "source": [
    "!pip install altair"
   ]
  },
  {
   "cell_type": "code",
   "execution_count": 9,
   "metadata": {},
   "outputs": [
    {
     "name": "stderr",
     "output_type": "stream",
     "text": [
      "/Users/jameshayward/anaconda3/envs/time/lib/python3.9/site-packages/altair/utils/core.py:283: FutureWarning: iteritems is deprecated and will be removed in a future version. Use .items instead.\n",
      "  for col_name, dtype in df.dtypes.iteritems():\n"
     ]
    },
    {
     "data": {
      "text/html": [
       "\n",
       "<div id=\"altair-viz-f35b9bef5c114589958c08b5b0b70cc3\"></div>\n",
       "<script type=\"text/javascript\">\n",
       "  (function(spec, embedOpt){\n",
       "    let outputDiv = document.currentScript.previousElementSibling;\n",
       "    if (outputDiv.id !== \"altair-viz-f35b9bef5c114589958c08b5b0b70cc3\") {\n",
       "      outputDiv = document.getElementById(\"altair-viz-f35b9bef5c114589958c08b5b0b70cc3\");\n",
       "    }\n",
       "    const paths = {\n",
       "      \"vega\": \"https://cdn.jsdelivr.net/npm//vega@5?noext\",\n",
       "      \"vega-lib\": \"https://cdn.jsdelivr.net/npm//vega-lib?noext\",\n",
       "      \"vega-lite\": \"https://cdn.jsdelivr.net/npm//vega-lite@4.8.1?noext\",\n",
       "      \"vega-embed\": \"https://cdn.jsdelivr.net/npm//vega-embed@6?noext\",\n",
       "    };\n",
       "\n",
       "    function loadScript(lib) {\n",
       "      return new Promise(function(resolve, reject) {\n",
       "        var s = document.createElement('script');\n",
       "        s.src = paths[lib];\n",
       "        s.async = true;\n",
       "        s.onload = () => resolve(paths[lib]);\n",
       "        s.onerror = () => reject(`Error loading script: ${paths[lib]}`);\n",
       "        document.getElementsByTagName(\"head\")[0].appendChild(s);\n",
       "      });\n",
       "    }\n",
       "\n",
       "    function showError(err) {\n",
       "      outputDiv.innerHTML = `<div class=\"error\" style=\"color:red;\">${err}</div>`;\n",
       "      throw err;\n",
       "    }\n",
       "\n",
       "    function displayChart(vegaEmbed) {\n",
       "      vegaEmbed(outputDiv, spec, embedOpt)\n",
       "        .catch(err => showError(`Javascript Error: ${err.message}<br>This usually means there's a typo in your chart specification. See the javascript console for the full traceback.`));\n",
       "    }\n",
       "\n",
       "    if(typeof define === \"function\" && define.amd) {\n",
       "      requirejs.config({paths});\n",
       "      require([\"vega-embed\"], displayChart, err => showError(`Error loading script: ${err.message}`));\n",
       "    } else if (typeof vegaEmbed === \"function\") {\n",
       "      displayChart(vegaEmbed);\n",
       "    } else {\n",
       "      loadScript(\"vega\")\n",
       "        .then(() => loadScript(\"vega-lite\"))\n",
       "        .then(() => loadScript(\"vega-embed\"))\n",
       "        .catch(showError)\n",
       "        .then(() => displayChart(vegaEmbed));\n",
       "    }\n",
       "  })({\"config\": {\"view\": {\"continuousWidth\": 400, \"continuousHeight\": 300}}, \"data\": {\"name\": \"data-2474b9140f427aa59fb25650b57fdfdd\"}, \"mark\": \"line\", \"encoding\": {\"color\": {\"type\": \"nominal\", \"field\": \"year\"}, \"tooltip\": [{\"type\": \"quantitative\", \"field\": \"consumption\"}, {\"type\": \"nominal\", \"field\": \"month_name\"}], \"x\": {\"type\": \"quantitative\", \"field\": \"month\"}, \"y\": {\"type\": \"quantitative\", \"field\": \"consumption\"}}, \"selection\": {\"selector001\": {\"type\": \"interval\", \"bind\": \"scales\", \"encodings\": [\"x\", \"y\"]}}, \"$schema\": \"https://vega.github.io/schema/vega-lite/v4.8.1.json\", \"datasets\": {\"data-2474b9140f427aa59fb25650b57fdfdd\": [{\"consumption\": 457765.0333333333, \"year\": 2006, \"month\": 12, \"month_name\": \"December\"}, {\"consumption\": 684912.7, \"year\": 2007, \"month\": 1, \"month_name\": \"January\"}, {\"consumption\": 559019.4333333333, \"year\": 2007, \"month\": 2, \"month_name\": \"February\"}, {\"consumption\": 525144.5333333333, \"year\": 2007, \"month\": 3, \"month_name\": \"March\"}, {\"consumption\": 316359.76666666666, \"year\": 2007, \"month\": 4, \"month_name\": \"April\"}, {\"consumption\": 356164.2, \"year\": 2007, \"month\": 5, \"month_name\": \"May\"}, {\"consumption\": 276251.8, \"year\": 2007, \"month\": 6, \"month_name\": \"June\"}, {\"consumption\": 241463.83333333334, \"year\": 2007, \"month\": 7, \"month_name\": \"July\"}, {\"consumption\": 256870.33333333334, \"year\": 2007, \"month\": 8, \"month_name\": \"August\"}, {\"consumption\": 343383.76666666666, \"year\": 2007, \"month\": 9, \"month_name\": \"September\"}, {\"consumption\": 434060.8333333333, \"year\": 2007, \"month\": 10, \"month_name\": \"October\"}, {\"consumption\": 507798.4, \"year\": 2007, \"month\": 11, \"month_name\": \"November\"}, {\"consumption\": 690625.5, \"year\": 2007, \"month\": 12, \"month_name\": \"December\"}, {\"consumption\": 649309.3666666667, \"year\": 2008, \"month\": 1, \"month_name\": \"January\"}, {\"consumption\": 469428.5333333333, \"year\": 2008, \"month\": 2, \"month_name\": \"February\"}, {\"consumption\": 504452.9, \"year\": 2008, \"month\": 3, \"month_name\": \"March\"}, {\"consumption\": 389870.86666666664, \"year\": 2008, \"month\": 4, \"month_name\": \"April\"}, {\"consumption\": 359420.0, \"year\": 2008, \"month\": 5, \"month_name\": \"May\"}, {\"consumption\": 293452.86666666664, \"year\": 2008, \"month\": 6, \"month_name\": \"June\"}, {\"consumption\": 272333.3, \"year\": 2008, \"month\": 7, \"month_name\": \"July\"}, {\"consumption\": 99896.0, \"year\": 2008, \"month\": 8, \"month_name\": \"August\"}, {\"consumption\": 329881.86666666664, \"year\": 2008, \"month\": 9, \"month_name\": \"September\"}, {\"consumption\": 461733.0, \"year\": 2008, \"month\": 10, \"month_name\": \"October\"}, {\"consumption\": 603910.3333333334, \"year\": 2008, \"month\": 11, \"month_name\": \"November\"}, {\"consumption\": 555319.8666666667, \"year\": 2008, \"month\": 12, \"month_name\": \"December\"}, {\"consumption\": 571957.8, \"year\": 2009, \"month\": 1, \"month_name\": \"January\"}, {\"consumption\": 443086.8333333333, \"year\": 2009, \"month\": 2, \"month_name\": \"February\"}, {\"consumption\": 470880.76666666666, \"year\": 2009, \"month\": 3, \"month_name\": \"March\"}, {\"consumption\": 406311.73333333334, \"year\": 2009, \"month\": 4, \"month_name\": \"April\"}, {\"consumption\": 348780.1666666667, \"year\": 2009, \"month\": 5, \"month_name\": \"May\"}, {\"consumption\": 237901.0, \"year\": 2009, \"month\": 6, \"month_name\": \"June\"}, {\"consumption\": 211150.73333333334, \"year\": 2009, \"month\": 7, \"month_name\": \"July\"}, {\"consumption\": 220302.73333333334, \"year\": 2009, \"month\": 8, \"month_name\": \"August\"}, {\"consumption\": 316183.06666666665, \"year\": 2009, \"month\": 9, \"month_name\": \"September\"}, {\"consumption\": 415516.6666666667, \"year\": 2009, \"month\": 10, \"month_name\": \"October\"}, {\"consumption\": 468347.0333333333, \"year\": 2009, \"month\": 11, \"month_name\": \"November\"}, {\"consumption\": 519883.43333333335, \"year\": 2009, \"month\": 12, \"month_name\": \"December\"}, {\"consumption\": 483292.9666666667, \"year\": 2010, \"month\": 1, \"month_name\": \"January\"}, {\"consumption\": 409956.43333333335, \"year\": 2010, \"month\": 2, \"month_name\": \"February\"}, {\"consumption\": 382285.3, \"year\": 2010, \"month\": 3, \"month_name\": \"March\"}, {\"consumption\": 328872.4, \"year\": 2010, \"month\": 4, \"month_name\": \"April\"}, {\"consumption\": 349765.3333333333, \"year\": 2010, \"month\": 5, \"month_name\": \"May\"}, {\"consumption\": 277734.4, \"year\": 2010, \"month\": 6, \"month_name\": \"June\"}, {\"consumption\": 291524.5333333333, \"year\": 2010, \"month\": 7, \"month_name\": \"July\"}, {\"consumption\": 168718.56666666668, \"year\": 2010, \"month\": 8, \"month_name\": \"August\"}, {\"consumption\": 277923.06666666665, \"year\": 2010, \"month\": 9, \"month_name\": \"September\"}, {\"consumption\": 441461.23333333334, \"year\": 2010, \"month\": 10, \"month_name\": \"October\"}, {\"consumption\": 407749.4666666667, \"year\": 2010, \"month\": 11, \"month_name\": \"November\"}]}}, {\"mode\": \"vega-lite\"});\n",
       "</script>"
      ],
      "text/plain": [
       "alt.Chart(...)"
      ]
     },
     "execution_count": 9,
     "metadata": {},
     "output_type": "execute_result"
    }
   ],
   "source": [
    "import altair as alt\n",
    "\n",
    "alt.Chart(power_monthly).mark_line().encode(\n",
    "    x='month',\n",
    "    y='consumption',\n",
    "    color='year:N',\n",
    "    tooltip = ['consumption', 'month_name']\n",
    ").interactive()"
   ]
  },
  {
   "cell_type": "markdown",
   "metadata": {},
   "source": [
    "<a id='as2'></a>\n",
    "## Assignment: Weekday with most consumption\n",
    "\n",
    "Which day of the week has the highest consumption on average? Does consumption drop in the weekend? \n",
    "\n",
    "Bonus: make a bar plot to better illustrate weekly consumption patterns\n",
    "\n",
    "*you can load the answer below:*"
   ]
  },
  {
   "cell_type": "code",
   "execution_count": null,
   "metadata": {},
   "outputs": [],
   "source": []
  },
  {
   "cell_type": "code",
   "execution_count": 20,
   "metadata": {},
   "outputs": [
    {
     "data": {
      "text/plain": [
       "<AxesSubplot:title={'center':'total consumption per day of the week'}, xlabel='weekday'>"
      ]
     },
     "execution_count": 20,
     "metadata": {},
     "output_type": "execute_result"
    },
    {
     "data": {
      "image/png": "[encoded data removed]",
      "text/plain": [
       "<Figure size 640x480 with 1 Axes>"
      ]
     },
     "metadata": {},
     "output_type": "display_data"
    }
   ],
   "source": [
    "# %load answers/power-weekday-most-consumption.py\n",
    "(\n",
    "    power_daily\n",
    "    .assign(weekday = lambda df: df.index.day_name(),\n",
    "            weekday_num = lambda df: df.index.day_of_week\n",
    "           )\n",
    "    .groupby('weekday')\n",
    "    .mean()\n",
    "    .sort_values('weekday_num')\n",
    "      .plot(kind='bar', legend=False, title='total consumption per day of the week')\n",
    ")\n"
   ]
  },
  {
   "cell_type": "markdown",
   "metadata": {},
   "source": [
    "<a id='sum'></a>\n",
    "## Summary\n",
    "\n",
    "We have covered: \n",
    "- How to properly read in time series data in Pandas, and why it is important to set the date as an index\n",
    "- How to aggregate over time periods with Pandas\n",
    "- How to create time based features to aid with analysis\n"
   ]
  }
 ],
 "metadata": {
  "kernelspec": {
   "display_name": "Python 3 (ipykernel)",
   "language": "python",
   "name": "python3"
  },
  "language_info": {
   "codemirror_mode": {
    "name": "ipython",
    "version": 3
   },
   "file_extension": ".py",
   "mimetype": "text/x-python",
   "name": "python",
   "nbconvert_exporter": "python",
   "pygments_lexer": "ipython3",
   "version": "3.9.15"
  }
 },
 "nbformat": 4,
 "nbformat_minor": 4
}
